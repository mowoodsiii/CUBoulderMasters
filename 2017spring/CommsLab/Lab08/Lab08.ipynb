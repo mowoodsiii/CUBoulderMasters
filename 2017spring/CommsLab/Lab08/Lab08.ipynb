{
 "cells": [
  {
   "cell_type": "markdown",
   "metadata": {
    "deletable": true,
    "editable": true
   },
   "source": [
    "# Lab 08 - Amplitude Modulation and Complex Lowpass Signals\n",
    "\n",
    "### Maurice Woods\n",
    "\n",
    "### 11 April 2017\n"
   ]
  },
  {
   "cell_type": "markdown",
   "metadata": {
    "deletable": true,
    "editable": true
   },
   "source": [
    "------------------------------------------------------------------------------------------------------------------------------------\n",
    "------------------------------------------------------------------------------------------------------------------------------------\n",
    "## EC 01 - AM Transmitter/Receiver"
   ]
  },
  {
   "cell_type": "code",
   "execution_count": 1,
   "metadata": {
    "collapsed": false,
    "deletable": true,
    "editable": true
   },
   "outputs": [
    {
     "ename": "SyntaxError",
     "evalue": "invalid syntax (amfun.py, line 138)",
     "output_type": "error",
     "traceback": [
      "\u001b[0;36m  File \u001b[0;32m\"/home/maurice/Documents/Git/CUBoulderMasters/2017spring/CommsLab/Lab08/amfun.py\"\u001b[0;36m, line \u001b[0;32m138\u001b[0m\n\u001b[0;31m    if thetac>2*pi || thetac<-2*pi:\u001b[0m\n\u001b[0m                    ^\u001b[0m\n\u001b[0;31mSyntaxError\u001b[0m\u001b[0;31m:\u001b[0m invalid syntax\n"
     ]
    }
   ],
   "source": [
    "from pylab import *\n",
    "import ecen4652 as ecen\n",
    "import quick\n",
    "import filtfun\n",
    "import amfun\n",
    "import showfun"
   ]
  },
  {
   "cell_type": "markdown",
   "metadata": {
    "deletable": true,
    "editable": true
   },
   "source": [
    "##### Part A)\n",
    "\n",
    "Modify your trapfilt function in the filtfun module so that it can be used as either a lowpass or a bandpass filter with trapezoidal frequency response.\n",
    "\n",
    "To test your modified trapfilt function, estimate the parameters of the BPF whose frequency response is shown below and recreate h(t) ⇔ H(f ) with your trapfilt function."
   ]
  },
  {
   "cell_type": "code",
   "execution_count": null,
   "metadata": {
    "collapsed": false,
    "deletable": true,
    "editable": true,
    "scrolled": false
   },
   "outputs": [],
   "source": [
    "Fs=16000\n",
    "t0=-0.5\n",
    "t=1\n",
    "xt=concatenate([zeros(int(Fs/2)),[1],zeros(Fs-int(Fs/2))])\n",
    "sig_xt=ecen.sigWave(xt, Fs, t0)\n",
    "k=20\n",
    "alfa=0.2\n",
    "\n",
    "fL=1000\n",
    "fparms=[fL]\n",
    "[trap_xt,n]=filtfun.trapfilt1(sig_xt,fparms,k,alfa)\n",
    "showfun.showft(trap_xt,[-3000,3000,0])\n",
    "showfun.showft(trap_xt,[-3000,3000,-60])"
   ]
  },
  {
   "cell_type": "code",
   "execution_count": null,
   "metadata": {
    "collapsed": false,
    "deletable": true,
    "editable": true
   },
   "outputs": [],
   "source": [
    "fBW=500\n",
    "fc=2000\n",
    "fparms=[fBW,fc]\n",
    "[trap_xt,n]=filtfun.trapfilt1(sig_xt,fparms,k,alfa)\n",
    "showfun.showft(trap_xt,[-3000,3000,0])\n",
    "showfun.showft(trap_xt,[-3000,3000,-60])"
   ]
  },
  {
   "cell_type": "markdown",
   "metadata": {
    "deletable": true,
    "editable": true
   },
   "source": [
    "##### Part B)\n",
    "\n",
    "Start a new Python module, called amfun.py, and write a function, called $amxmtr()$ which performs the tasks of an AM transmitter to produce AM-DSB-SC, AM-DSB-TC, AM-SSB, and AM-VSB signals for a real-valued (wideband) message signal m(t). Test it with the following:"
   ]
  },
  {
   "cell_type": "markdown",
   "metadata": {
    "deletable": true,
    "editable": true
   },
   "source": [
    "> First, let's try to replicate the example in the Lab (section 1.5)"
   ]
  },
  {
   "cell_type": "code",
   "execution_count": null,
   "metadata": {
    "collapsed": false,
    "deletable": true,
    "editable": true,
    "scrolled": false
   },
   "outputs": [],
   "source": [
    "import amfun\n",
    "\n",
    "Fs = 44100\n",
    "tlen = 1.0\n",
    "f0 = 100\n",
    "f1 = 1000\n",
    "tt = arange(round(tlen*Fs))/float(Fs)\n",
    "mt = cos(2*pi*f0*tt) + cos(2*pi*f1*tt)\n",
    "sig_mt = ecen.sigWave(mt, Fs, 0)\n",
    "\n",
    "quick.quickplot(tt,mt,'-b',[],[],'','m(t) Test Signal for amfun.amxmtr()','Time (s)','m(t)',['first',5000])\n",
    "showfun.showft(sig_mt,[-f1*1.2,f1*1.2,-60])\n",
    "\n",
    "k=20\n",
    "alfa=0.1\n",
    "fL=500\n",
    "fparms=[fL]\n",
    "[test,order]=filtfun.trapfilt1(sig_mt,fparms,k,alfa)\n",
    "quick.quickplot(tt,test.signal(),'-b',[],[],'','m(t) Test Signal for amfun.amxmtr()','Time (s)','m(t)',['first',5000])\n",
    "\n",
    "fc = 2000\n",
    "thetac = 0\n",
    "fcparms=[fc,thetac]\n",
    "\n",
    "fm = 4000\n",
    "km = 15\n",
    "alfam = 0.05\n",
    "fmparms = [] # No low-pass filtering\n",
    "\n",
    "sig_xt = amfun.amxmtr(sig_mt,'sc',fcparms,fmparms)\n",
    "quick.quickplot(sig_xt.timeAxis(),sig_xt.signal(),'-b',[],[],'','Title','Time(s)','x(t)',['first',600])\n",
    "showfun.showpsd1(sig_xt,[-4000,4000,100],Fs)\n",
    "\n",
    "alfa = 0.7\n",
    "fcparms=[fc,thetac,alfa]\n",
    "sig_xt = amfun.amxmtr(sig_mt,'tc',fcparms,fmparms)\n",
    "quick.quickplot(sig_xt.timeAxis(),sig_xt.signal(),'-b',[],[],'','Title','Time(s)','x(t)',['first',600])\n",
    "showfun.showpsd1(sig_xt,[-4000,4000,100],Fs)"
   ]
  },
  {
   "cell_type": "code",
   "execution_count": null,
   "metadata": {
    "collapsed": false,
    "deletable": true,
    "editable": true,
    "scrolled": true
   },
   "outputs": [],
   "source": [
    "Fs = 44100\n",
    "tlen = 1.0\n",
    "f0 = 100\n",
    "tt = arange(round(tlen*Fs))/float(Fs)\n",
    "mt = cos(2*pi*f0*tt)\n",
    "sig_mt = ecen.sigWave(mt, Fs, 0)\n",
    "\n",
    "fc = 2000\n",
    "thetac = 0\n",
    "fcparms=[fc,thetac]\n",
    "\n",
    "fm = 10000\n",
    "km = 15\n",
    "alfam = 0.05\n",
    "fmparms = [fm,km,alfam] # Now try low pass filtering\n",
    "\n",
    "\n",
    "sig_xt = amfun.amxmtr(sig_mt,'sc',fcparms,fmparms)\n",
    "quick.quickplot(sig_xt.timeAxis(),sig_xt.signal(),'-b',[],[],'','Title','Time(s)','x(t)',['first',600])\n",
    "showfun.showpsd1(sig_xt,[-10000,10000,100],Fs)\n",
    "\n",
    "alfa = 0.7\n",
    "fcparms=[fc,thetac,alfa]\n",
    "sig_xt = amfun.amxmtr(sig_mt,'tc',fcparms,fmparms)\n",
    "quick.quickplot(sig_xt.timeAxis(),sig_xt.signal(),'-b',[],[],'','Title','Time(s)','x(t)',['first',600])\n",
    "showfun.showpsd1(sig_xt,[-10000,10000,100],Fs)"
   ]
  },
  {
   "cell_type": "markdown",
   "metadata": {
    "deletable": true,
    "editable": true
   },
   "source": [
    "> That looks pretty good! Now let's check out the actual signals of interest"
   ]
  },
  {
   "cell_type": "code",
   "execution_count": null,
   "metadata": {
    "collapsed": false,
    "deletable": true,
    "editable": true,
    "scrolled": false
   },
   "outputs": [],
   "source": [
    "Fs = 44100\n",
    "tlen = 1.0\n",
    "f0,f1 = 3000,5000\n",
    "tt = arange(round(tlen*Fs))/float(Fs)\n",
    "mt = cos(2*pi*f0*tt) + cos(2*pi*f1*tt)\n",
    "sig_mt = ecen.sigWave(mt, Fs, 0)\n",
    "\n",
    "quick.quickplot(tt,sig_mt.signal(),'-b',[],[],'','m(t) Test Signal for amfun.amxmtr()','Time (s)','m(t)',['first',500])\n",
    "showfun.showft(sig_mt,[-f1*1.2,f1*1.2,-60])"
   ]
  },
  {
   "cell_type": "code",
   "execution_count": null,
   "metadata": {
    "collapsed": false,
    "deletable": true,
    "editable": true,
    "scrolled": false
   },
   "outputs": [],
   "source": [
    "fc = 9000\n",
    "thetac = 0\n",
    "fcparms=[fc,thetac]\n",
    "\n",
    "fm = 4000\n",
    "km = 15\n",
    "alfam = 0.05\n",
    "fmparms = [fm,km,alfam]\n",
    "\n",
    "sig_xt = amfun.amxmtr(sig_mt,'sc',fcparms,fmparms)\n",
    "quick.quickplot(sig_xt.timeAxis(),sig_xt.signal(),'-b',[],[],'','Title','Time(s)','x(t)',['first',500])\n",
    "showfun.showpsd1(sig_xt,[-0,20000,100],Fs)\n",
    "\n",
    "alfa = 0.7\n",
    "fcparms=[fc,thetac,alfa]\n",
    "sig_xt = amfun.amxmtr(sig_mt,'tc',fcparms,fmparms)\n",
    "quick.quickplot(sig_xt.timeAxis(),sig_xt.signal(),'-b',[],[],'','Title','Time(s)','x(t)',['first',2000])\n",
    "showfun.showpsd1(sig_xt,[0,20000,100],Fs)"
   ]
  },
  {
   "cell_type": "markdown",
   "metadata": {
    "deletable": true,
    "editable": true
   },
   "source": [
    "##### Part C)\n",
    "\n",
    "Use the speech signal in speech801.wav and the music signal in music801.wav to generate AM-DSB-SC signals x 1 (t) and x 2 (t), respectively, with f c = 8000 Hz, f m = 4000 Hz, k m ≈ 10 . . . 20, and α m = 0.05. Use θ c = −90 ◦ for the speech signal and θ c = 0 ◦ for the music signal. Adjust the carrier amplitude A c2 of x 2 (t) (modulated with the music signal)\n",
    "such that the average powers P (x 1 (t)) and P (x 2 (t)) of the AM-DSB-SC signals are approximately equal. Create a third signal x 3 (t) = (x 1 (t) + x 2 (t))/ 2. Save the three signals in myam801.wav, myam802.wav, and myam803.wav, respectively, for later use. Display the PSDs of each of the three signals and compare them. Does the bandwidth for x 3 (t), which contains two message signals, change?\n",
    "\n",
    "> ANSWER\n",
    "\n",
    "Display also the PSDs of the squared AM signals x_1^2(t), x_2^2(t), and x_3^2 (t) and analyze them in the vcinity of 2f_c (zoom-in to a range of approximately 15900 to 16100 Hz). Is there any useful information that you can get from the squared signals? If so, what is this information and for which of the three signals is it actually present?\n",
    "\n",
    "> ANSWER"
   ]
  },
  {
   "cell_type": "code",
   "execution_count": null,
   "metadata": {
    "collapsed": false,
    "deletable": true,
    "editable": true,
    "scrolled": true
   },
   "outputs": [],
   "source": [
    "import wavfun\n",
    "[speech801, framerate] = wavfun.wavread(\"speech801.wav\")\n",
    "[music801, framerate] = wavfun.wavread(\"music801.wav\")\n",
    "\n",
    "tt=quick.quicktt(speech801,framerate) # Same framerate, same length\n",
    "quick.quickplot(tt,speech801)\n",
    "quick.quickplot(tt,music801)\n",
    "\n",
    "sig_mt_speech = ecen.sigWave(speech801, framerate)\n",
    "sig_mt_music  = ecen.sigWave(music801, framerate)\n",
    "showfun.showpsd1(sig_mt_speech,[-10000, 10000, 0],framerate) #Plot S_x(f)\n",
    "showfun.showpsd1(sig_mt_music,[-10000, 10000, 0],framerate) #Plot S_x(f)\n",
    "\n",
    "fc = 8000\n",
    "thetac_speech = -pi/2\n",
    "thetac_music = 0\n",
    "Ac_music = 0.69\n",
    "fcparms_speech=[fc,thetac_speech]\n",
    "fcparms_music=[fc,thetac_music,Ac_music]\n",
    "\n",
    "fm = 4000\n",
    "km = 15\n",
    "alfam = 0.05\n",
    "fmparms = [fm,km,alfam]\n",
    "\n",
    "sig_xt_speech = amfun.amxmtr(sig_mt_speech,'sc',fcparms_speech,fmparms)\n",
    "showfun.showpsd1(sig_xt_speech,[0,8000+5000,100],Fs)\n",
    "\n",
    "sig_xt_music = amfun.amxmtr(sig_mt_music,'sc',fcparms_music,fmparms)\n",
    "showfun.showpsd1(sig_xt_music,[0,8000+5000,100],Fs)"
   ]
  },
  {
   "cell_type": "code",
   "execution_count": null,
   "metadata": {
    "collapsed": false,
    "deletable": true,
    "editable": true
   },
   "outputs": [],
   "source": [
    "sig_xt_combo = sig_xt_speech.copy()\n",
    "quick.quickplot(tt,sig_xt_combo.signal())\n",
    "sig_xt_combo.sig = (sig_xt_speech.signal()+sig_xt_music.signal())/sqrt(2)\n",
    "showfun.showpsd1(sig_xt_combo,[0,8000+5000,100],Fs)"
   ]
  },
  {
   "cell_type": "code",
   "execution_count": null,
   "metadata": {
    "collapsed": false,
    "deletable": true,
    "editable": true
   },
   "outputs": [],
   "source": [
    "wavfun.wavwrite(sig_xt_speech.signal(), framerate, 'txmd_speech.wav')\n",
    "wavfun.wavwrite(sig_xt_music.signal(), framerate, 'txmd_music.wav')\n",
    "wavfun.wavwrite(sig_xt_combo.signal(), framerate, 'txmd_combo.wav')"
   ]
  },
  {
   "cell_type": "code",
   "execution_count": null,
   "metadata": {
    "collapsed": false,
    "deletable": true,
    "editable": true,
    "scrolled": true
   },
   "outputs": [],
   "source": [
    "sig_xt_speech_sqrd = sig_xt_speech.copy()\n",
    "sig_xt_music_sqrd = sig_xt_music.copy()\n",
    "sig_xt_combo_sqrd = sig_xt_combo.copy()\n",
    "\n",
    "sig_xt_speech_sqrd.sig = (sig_xt_speech.signal()**2)\n",
    "sig_xt_music_sqrd.sig = (sig_xt_music.signal()**2)\n",
    "sig_xt_combo_sqrd.sig = (sig_xt_combo.signal()**2)\n",
    "\n",
    "showfun.showpsd1(sig_xt_speech_sqrd,[2*fc-100,2*fc+100,100],Fs)\n",
    "showfun.showpsd1(sig_xt_music_sqrd,[2*fc-100,2*fc+100,100],Fs)\n",
    "showfun.showpsd1(sig_xt_combo_sqrd,[2*fc-100,2*fc+100,100],Fs)"
   ]
  },
  {
   "cell_type": "markdown",
   "metadata": {
    "deletable": true,
    "editable": true
   },
   "source": [
    "##### Part D)\n",
    "\n",
    "For the Python module amfun.py, write a function called amrcvr that demodulates a received AM signal r(t) and produces an estimate m̂(t) of the transmitted message m(t).\n",
    "\n",
    "Test your receiver with the AM-DSB-SC signals that you produced in part (c). Use the same f m , k m and α m as for the transmitter. \n",
    "\n",
    "> Page 2 of the lab outline describes how the music and speech files should not have any DC component, which is consistent with our findings above. "
   ]
  },
  {
   "cell_type": "code",
   "execution_count": null,
   "metadata": {
    "collapsed": false,
    "deletable": true,
    "editable": true
   },
   "outputs": [],
   "source": [
    "rtype='coh'\n",
    "\n",
    "sig_mthat_speech = amfun.amrcvr(sig_xt_speech, rtype, fcparms_speech, fmparms)\n",
    "sig_mthat_music = amfun.amrcvr(sig_xt_music, rtype, fcparms_music, fmparms)\n",
    "sig_mthat_combo_speech = amfun.amrcvr(sig_xt_combo, rtype, fcparms_speech, fmparms)\n",
    "sig_mthat_combo_music = amfun.amrcvr(sig_xt_combo, rtype, fcparms_music, fmparms)\n",
    "\n",
    "showfun.showpsd1(sig_mthat_speech,[-5000,5000,100],Fs)\n",
    "showfun.showpsd1(sig_mthat_music,[-5000,5000,100],Fs)\n",
    "showfun.showpsd1(sig_mthat_combo_speech,[-5000,5000,100],Fs)\n",
    "showfun.showpsd1(sig_mthat_combo_music,[-5000,5000,100],Fs)\n",
    "\n",
    "wavfun.wavwrite(sig_mthat_speech.signal(), framerate, 'rcvd_speech.wav')\n",
    "wavfun.wavwrite(sig_mthat_music.signal(), framerate, 'rcvd_music.wav')\n",
    "wavfun.wavwrite(sig_mthat_combo_speech.signal(), framerate, 'rcvd_combo_speech.wav')\n",
    "wavfun.wavwrite(sig_mthat_combo_music.signal(), framerate, 'rcvd_combo_music.wav')"
   ]
  },
  {
   "cell_type": "markdown",
   "metadata": {
    "collapsed": false,
    "deletable": true,
    "editable": true
   },
   "source": [
    "Can you recover the speech and music signals from x 3 (t) without any interference between the two signals?\n",
    "\n",
    "> Yes!! See files 'rcvd_combo_speech.wav' and 'rcvd_combo_music.wav', which were extracted from the speech/music-combined transmitted signal ('txmd_combo.wav')"
   ]
  },
  {
   "cell_type": "markdown",
   "metadata": {
    "deletable": true,
    "editable": true
   },
   "source": [
    "##### Part E)\n",
    "\n",
    "Analyze and, if possible, demodulate the AM signals in the wav-files amsig801.wav, amsig802.wav, amsig803.wav, and amsig804.wav. Look at the signals in the frequency domain and listen to the demodulated signals (make a wav file in Python and then use a music player for listening). Try different demodulation methods (coherent, non-coherent, I-Q envelope detection, etc). Interpret the graphs and the different demodulation methods and relate your findings to how the demodulated signals sound."
   ]
  },
  {
   "cell_type": "code",
   "execution_count": null,
   "metadata": {
    "collapsed": false,
    "deletable": true,
    "editable": true
   },
   "outputs": [],
   "source": [
    "[amsig801, framerate] = wavfun.wavread(\"amsig801.wav\")\n",
    "tt=quick.quicktt(amsig801,framerate) # Same framerate, same length\n",
    "quick.quickplot(tt,amsig801)\n",
    "sig_xt_amsig801 = ecen.sigWave(amsig801, framerate)\n",
    "\n",
    "showfun.showpsd1(sig_xt_amsig801,[-14000, 14000, 0],framerate) #Plot S_x(f)\n",
    "\n",
    "fc = 8000\n",
    "thetac = 0\n",
    "fcparms=[fc,thetac]\n",
    "fm = 4000\n",
    "km = 15\n",
    "alfam = 0.05\n",
    "fmparms = [fm,km,alfam]\n",
    "sig_mthat_amsig801 = amfun.amrcvr(sig_xt_amsig801, 'coh', fcparms, fmparms)\n",
    "\n",
    "showfun.showpsd1(sig_mthat_amsig801,[-5000,5000,100],Fs)\n",
    "wavfun.wavwrite(sig_mthat_amsig801.signal(), framerate, 'rcvd_amsig801.wav')"
   ]
  },
  {
   "cell_type": "code",
   "execution_count": null,
   "metadata": {
    "collapsed": false,
    "deletable": true,
    "editable": true
   },
   "outputs": [],
   "source": [
    "[amsig802, framerate] = wavfun.wavread(\"amsig802.wav\")\n",
    "tt=quick.quicktt(amsig802,framerate) # Same framerate, same length\n",
    "quick.quickplot(tt,amsig802)\n",
    "sig_xt_amsig802 = ecen.sigWave(amsig802, framerate)\n",
    "\n",
    "showfun.showpsd1(sig_xt_amsig802,[-18000, 18000, 0],framerate) #Plot S_x(f)\n",
    "\n",
    "sig_xt_amsig802sqrd=sig_xt_amsig802.copy()\n",
    "sig_xt_amsig802sqrd.sig = sig_xt_amsig802.signal()**2\n",
    "showfun.showpsd1(sig_xt_amsig802sqrd,[-18000, 18000, 0],framerate) #Plot S_x(f)\n",
    "showfun.showpsd1(sig_xt_amsig802sqrd,[16600, 16800, 0],framerate) #Plot S_x(f)\n",
    "\n",
    "fc = 8350\n",
    "thetac = 0\n",
    "fcparms=[fc,thetac]\n",
    "fm = 4000\n",
    "km = 15\n",
    "alfam = 0.05\n",
    "fmparms = [fm,km,alfam]\n",
    "sig_mthat_amsig802 = amfun.amrcvr(sig_xt_amsig802, 'coh', fcparms, fmparms)\n",
    "\n",
    "showfun.showpsd1(sig_mthat_amsig802,[-5000,5000,100],Fs)\n",
    "wavfun.wavwrite(sig_mthat_amsig802.signal(), framerate, 'rcvd_amsig802.wav')"
   ]
  },
  {
   "cell_type": "code",
   "execution_count": null,
   "metadata": {
    "collapsed": false,
    "deletable": true,
    "editable": true
   },
   "outputs": [],
   "source": [
    "[amsig803, framerate] = wavfun.wavread(\"amsig803.wav\")\n",
    "tt=quick.quicktt(amsig803,framerate) # Same framerate, same length\n",
    "quick.quickplot(tt,amsig803)\n",
    "sig_xt_amsig803 = ecen.sigWave(amsig803, framerate)\n",
    "\n",
    "showfun.showpsd1(sig_xt_amsig803,[-14000, 14000, 0],framerate) #Plot S_x(f)\n",
    "\n",
    "fc = 8000\n",
    "thetac = 0\n",
    "fcparms=[fc,thetac]\n",
    "fm = 4000\n",
    "km = 15\n",
    "alfam = 0.05\n",
    "fmparms = [fm,km,alfam]\n",
    "sig_mthat_amsig803 = amfun.amrcvr(sig_xt_amsig803, 'coh', fcparms, fmparms)\n",
    "\n",
    "showfun.showpsd1(sig_mthat_amsig803,[-5000,5000,100],Fs)\n",
    "wavfun.wavwrite(sig_mthat_amsig803.signal(), framerate, 'rcvd_amsig803.wav')"
   ]
  },
  {
   "cell_type": "code",
   "execution_count": null,
   "metadata": {
    "collapsed": false,
    "deletable": true,
    "editable": true
   },
   "outputs": [],
   "source": [
    "[amsig804, framerate] = wavfun.wavread(\"amsig804.wav\")\n",
    "tt=quick.quicktt(amsig804,framerate) # Same framerate, same length\n",
    "quick.quickplot(tt,amsig804)\n",
    "sig_xt_amsig804 = ecen.sigWave(amsig804, framerate)\n",
    "\n",
    "showfun.showpsd1(sig_xt_amsig804,[-14000, 14000, 0],framerate) #Plot S_x(f)\n",
    "\n",
    "fc = 8000\n",
    "thetac = 0\n",
    "fcparms=[fc,thetac]\n",
    "fm = 4000\n",
    "km = 15\n",
    "alfam = 0.05\n",
    "fmparms = [fm,km,alfam]\n",
    "sig_mthat_amsig804 = amfun.amrcvr(sig_xt_amsig804, 'coh', fcparms, fmparms)\n",
    "\n",
    "showfun.showpsd1(sig_mthat_amsig804,[-5000,5000,100],Fs)\n",
    "wavfun.wavwrite(sig_mthat_amsig804.signal(), framerate, 'rcvd_amsig804.wav')"
   ]
  },
  {
   "cell_type": "markdown",
   "metadata": {
    "deletable": true,
    "editable": true
   },
   "source": [
    "> ANSWER"
   ]
  },
  {
   "cell_type": "markdown",
   "metadata": {
    "deletable": true,
    "editable": true
   },
   "source": [
    "##### Part F)\n",
    "\n",
    "Repeat (e) for the AM signals in the wav-files amsig805.wav, amsig806.wav, and\n",
    "amsig807.wav."
   ]
  },
  {
   "cell_type": "code",
   "execution_count": null,
   "metadata": {
    "collapsed": true,
    "deletable": true,
    "editable": true
   },
   "outputs": [],
   "source": []
  },
  {
   "cell_type": "markdown",
   "metadata": {
    "deletable": true,
    "editable": true
   },
   "source": [
    "> ANSWER"
   ]
  },
  {
   "cell_type": "markdown",
   "metadata": {
    "deletable": true,
    "editable": true
   },
   "source": [
    "##### Part G)\n",
    "\n",
    "Build the GNU Radio flowgraph shown below to demodulate the two AM-DSB-SC signals in the file AMsignal_002.bin. The file was recorded using a sampling rate of 512 kHz and each sample is a 32-bit (real) floating point number. \n",
    "\n",
    "The nominal carrier frequencies of the two signals are f c1 = 124 kHz and f c2 = 144 kHz, but the transmitters were off a little bit (within ±10 Hz) from the nominal values. The receiver attempts to demodulate the signals with the nominal carrier frequency values, followed by fine tuning in the range from -10 to +10 Hz. The goal of this experiment is to find out how successful that strategy is when working with real-valued signal processing and to discuss its advantages and shortcomings.\n",
    "\n",
    "> ANSWER"
   ]
  },
  {
   "cell_type": "markdown",
   "metadata": {
    "deletable": true,
    "editable": true
   },
   "source": [
    "## EC 02 - QAM Transmitter/Receiver"
   ]
  },
  {
   "cell_type": "code",
   "execution_count": null,
   "metadata": {
    "collapsed": false,
    "deletable": true,
    "editable": true
   },
   "outputs": [],
   "source": [
    "from pylab import *\n",
    "import ecen4652 as ecen\n",
    "import quick\n",
    "import filtfun\n",
    "import amfun\n",
    "import showfun"
   ]
  },
  {
   "cell_type": "markdown",
   "metadata": {
    "deletable": true,
    "editable": true
   },
   "source": [
    "##### Part A)\n"
   ]
  },
  {
   "cell_type": "code",
   "execution_count": null,
   "metadata": {
    "collapsed": false,
    "deletable": true,
    "editable": true
   },
   "outputs": [],
   "source": [
    "Fs=44100\n",
    "t0=-0.5\n",
    "t=1\n",
    "xt=concatenate([zeros(int(Fs/2)),[1],zeros(Fs-int(Fs/2))])\n",
    "sig_xt=ecen.sigWave(xt, Fs, t0)\n",
    "k=20\n",
    "alfa=0.2\n",
    "\n",
    "fL=1000\n",
    "fparms=[fL]\n",
    "[trap_xt,n]=filtfun.trapfilt_cc(sig_xt,fparms,k,alfa)\n",
    "showfun.showft(trap_xt,[-3000,3000,0])\n",
    "showfun.showft(trap_xt,[-3000,3000,-60])"
   ]
  },
  {
   "cell_type": "code",
   "execution_count": null,
   "metadata": {
    "collapsed": false,
    "deletable": true,
    "editable": true
   },
   "outputs": [],
   "source": [
    "fBW=500\n",
    "fc=2000\n",
    "fparms=[fBW,fc]\n",
    "[trap_xt,n]=filtfun.trapfilt_cc(sig_xt,fparms,k,alfa)\n",
    "showfun.showft(trap_xt,[-3000,3000,0])\n",
    "showfun.showft(trap_xt,[-3000,3000,-60])"
   ]
  },
  {
   "cell_type": "markdown",
   "metadata": {
    "deletable": true,
    "editable": true
   },
   "source": [
    "##### Part B)\n"
   ]
  },
  {
   "cell_type": "markdown",
   "metadata": {
    "deletable": true,
    "editable": true
   },
   "source": [
    "##### Part C)\n"
   ]
  },
  {
   "cell_type": "markdown",
   "metadata": {
    "deletable": true,
    "editable": true
   },
   "source": [
    "##### Part D)\n"
   ]
  },
  {
   "cell_type": "markdown",
   "metadata": {
    "deletable": true,
    "editable": true
   },
   "source": [
    "##### Part E)\n"
   ]
  },
  {
   "cell_type": "markdown",
   "metadata": {
    "deletable": true,
    "editable": true
   },
   "source": [
    "##### Part F)\n"
   ]
  }
 ],
 "metadata": {
  "anaconda-cloud": {},
  "kernelspec": {
   "display_name": "Python 3",
   "language": "python",
   "name": "python3"
  },
  "language_info": {
   "codemirror_mode": {
    "name": "ipython",
    "version": 3
   },
   "file_extension": ".py",
   "mimetype": "text/x-python",
   "name": "python",
   "nbconvert_exporter": "python",
   "pygments_lexer": "ipython3",
   "version": "3.5.2"
  }
 },
 "nbformat": 4,
 "nbformat_minor": 1
}
