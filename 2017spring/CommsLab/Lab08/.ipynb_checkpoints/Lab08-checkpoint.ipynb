{
 "cells": [
  {
   "cell_type": "markdown",
   "metadata": {
    "deletable": true,
    "editable": true
   },
   "source": [
    "# Lab 08 - Amplitude Modulation and Complex Lowpass Signals\n",
    "\n",
    "### Maurice Woods\n",
    "\n",
    "### 04 April 2017\n"
   ]
  },
  {
   "cell_type": "markdown",
   "metadata": {
    "deletable": true,
    "editable": true
   },
   "source": [
    "------------------------------------------------------------------------------------------------------------------------------------\n",
    "------------------------------------------------------------------------------------------------------------------------------------\n",
    "## EC 01 - AM Transmitter/Receiver"
   ]
  },
  {
   "cell_type": "code",
   "execution_count": 2,
   "metadata": {
    "collapsed": false,
    "deletable": true,
    "editable": true
   },
   "outputs": [],
   "source": [
    "from pylab import *\n",
    "import ecen4652 as ecen\n",
    "import quick\n",
    "import filtfun\n",
    "import amfun"
   ]
  },
  {
   "cell_type": "markdown",
   "metadata": {
    "deletable": true,
    "editable": true
   },
   "source": [
    "##### Part A)\n",
    "\n",
    "Modify your trapfilt function in the filtfun module so that it can be used as either a lowpass or a bandpass filter with trapezoidal frequency response.\n",
    "\n",
    "To test your modified trapfilt function, estimate the parameters of the BPF whose frequency response is shown below and recreate h(t) ⇔ H(f ) with your trapfilt function."
   ]
  },
  {
   "cell_type": "code",
   "execution_count": null,
   "metadata": {
    "collapsed": true
   },
   "outputs": [],
   "source": []
  },
  {
   "cell_type": "markdown",
   "metadata": {
    "deletable": true,
    "editable": true
   },
   "source": [
    "##### Part B)\n",
    "\n",
    "Start a new Python module, called amfun.py, and write a function, called amxmtr which performs the tasks of an AM transmitter to produce AM-DSB-SC, AM-DSB-TC, AM-SSB, and AM-VSB signals for a real-valued (wideband) message signal m(t). Test it with the following:"
   ]
  },
  {
   "cell_type": "code",
   "execution_count": 3,
   "metadata": {
    "collapsed": false
   },
   "outputs": [],
   "source": [
    "Fs = 44100\n",
    "tlen = 1.0\n",
    "f0, f1 = 3000, 5000\n",
    "tt = arange(round(tlen*Fs))/float(Fs)\n",
    "mt = cos(2*pi*f0*tt) + cos(2*pi*f1*tt)\n",
    "sig_mt = ecen.sigWave(mt, Fs, 0)"
   ]
  },
  {
   "cell_type": "markdown",
   "metadata": {
    "deletable": true,
    "editable": true
   },
   "source": [
    "##### Part C)\n",
    "\n",
    "Use the speech signal in speech801.wav and the music signal in music801.wav to generate AM-DSB-SC signals x 1 (t) and x 2 (t), respectively, with f c = 8000 Hz, f m = 4000 Hz, k m ≈ 10 . . . 20, and α m = 0.05. Use θ c = −90 ◦ for the speech signal and θ c = 0 ◦ for the music signal. Adjust the carrier amplitude A c2 of x 2 (t) (modulated with the music signal)\n",
    "such that the average powers P (x 1 (t)) and P (x 2 (t)) of the AM-DSB-SC signals are approximately equal. Create a third signal x 3 (t) = (x 1 (t) + x 2 (t))/ 2. Save the three signals in myam801.wav, myam802.wav, and myam803.wav, respectively, for later use. Display the PSDs of each of the three signals and compare them. Does the bandwidth for x 3 (t), which contains two message signals, change?\n",
    "\n",
    "> ANSWER\n",
    "\n",
    "Display also the PSDs of the squared AM signals x 21 (t), x 22 (t), and x 23 (t) and analyze them in the vcinity of 2f c (zoom-in to a range of approximately 15900 to 16100 Hz). Is there any useful information that you can get from the squared signals? If so, what is this information and for which of the three signals is it actually present?\n",
    "\n",
    "> ANSWER"
   ]
  },
  {
   "cell_type": "markdown",
   "metadata": {
    "deletable": true,
    "editable": true
   },
   "source": [
    "##### Part D)\n",
    "\n",
    "For the Python module amfun.py, write a function called amrcvr that demodulates a received AM signal r(t) and produces an estimate m̂(t) of the transmitted message m(t).\n",
    "\n",
    "Test your receiver with the AM-DSB-SC signals that you produced in part (c). Use the same f m , k m and α m as for the transmitter. "
   ]
  },
  {
   "cell_type": "code",
   "execution_count": null,
   "metadata": {
    "collapsed": true
   },
   "outputs": [],
   "source": []
  },
  {
   "cell_type": "markdown",
   "metadata": {
    "collapsed": false,
    "deletable": true,
    "editable": true
   },
   "source": [
    "Can you recover the speech and music signals from x 3 (t) without any interference between the two signals?\n",
    "\n",
    "> ANSWER"
   ]
  },
  {
   "cell_type": "markdown",
   "metadata": {},
   "source": [
    "##### Part E)\n",
    "\n",
    "Analyze and, if possible, demodulate the AM signals in the wav-files amsig801.wav, amsig802.wav, amsig803.wav, and amsig804.wav. Look at the signals in the frequency domain and listen to the demodulated signals (make a wav file in Python and then use a music player for listening). Try different demodulation methods (coherent, non-coherent, I-Q envelope detection, etc). Interpret the graphs and the different demodulation methods and relate your findings to how the demodulated signals sound."
   ]
  },
  {
   "cell_type": "code",
   "execution_count": null,
   "metadata": {
    "collapsed": true
   },
   "outputs": [],
   "source": []
  },
  {
   "cell_type": "markdown",
   "metadata": {},
   "source": [
    "> ANSWER"
   ]
  },
  {
   "cell_type": "markdown",
   "metadata": {},
   "source": [
    "##### Part F)\n",
    "\n",
    "Repeat (e) for the AM signals in the wav-files amsig805.wav, amsig806.wav, and\n",
    "amsig807.wav."
   ]
  },
  {
   "cell_type": "code",
   "execution_count": null,
   "metadata": {
    "collapsed": true
   },
   "outputs": [],
   "source": []
  },
  {
   "cell_type": "markdown",
   "metadata": {},
   "source": [
    "> ANSWER"
   ]
  },
  {
   "cell_type": "markdown",
   "metadata": {},
   "source": [
    "##### Part G)\n",
    "\n",
    "Build the GNU Radio flowgraph shown below to demodulate the two AM-DSB-SC signals in the file AMsignal_002.bin. The file was recorded using a sampling rate of 512 kHz and each sample is a 32-bit (real) floating point number. \n",
    "\n",
    "The nominal carrier frequencies of the two signals are f c1 = 124 kHz and f c2 = 144 kHz, but the transmitters were off a little bit (within ±10 Hz) from the nominal values. The receiver attempts to demodulate the signals with the nominal carrier frequency values, followed by fine tuning in the range from -10 to +10 Hz. The goal of this experiment is to find out how successful that strategy is when working with real-valued signal processing and to discuss its advantages and shortcomings.\n",
    "\n",
    "> ANSWER"
   ]
  },
  {
   "cell_type": "markdown",
   "metadata": {
    "deletable": true,
    "editable": true
   },
   "source": [
    "## EC 02 - QAM Transmitter/Receiver"
   ]
  },
  {
   "cell_type": "code",
   "execution_count": null,
   "metadata": {
    "collapsed": false,
    "deletable": true,
    "editable": true
   },
   "outputs": [],
   "source": [
    "from pylab import *\n",
    "import ecen4652 as ecen\n",
    "import quick\n",
    "import filtfun\n",
    "import amfun"
   ]
  },
  {
   "cell_type": "markdown",
   "metadata": {
    "deletable": true,
    "editable": true
   },
   "source": [
    "##### Part A)\n"
   ]
  },
  {
   "cell_type": "markdown",
   "metadata": {
    "deletable": true,
    "editable": true
   },
   "source": [
    "##### Part B)\n"
   ]
  },
  {
   "cell_type": "markdown",
   "metadata": {},
   "source": [
    "##### Part C)\n"
   ]
  },
  {
   "cell_type": "markdown",
   "metadata": {
    "deletable": true,
    "editable": true
   },
   "source": [
    "##### Part D)\n"
   ]
  },
  {
   "cell_type": "markdown",
   "metadata": {
    "deletable": true,
    "editable": true
   },
   "source": [
    "##### Part E)\n"
   ]
  },
  {
   "cell_type": "markdown",
   "metadata": {
    "deletable": true,
    "editable": true
   },
   "source": [
    "##### Part F)\n"
   ]
  }
 ],
 "metadata": {
  "anaconda-cloud": {},
  "kernelspec": {
   "display_name": "Python 3",
   "language": "python",
   "name": "python3"
  },
  "language_info": {
   "codemirror_mode": {
    "name": "ipython",
    "version": 3
   },
   "file_extension": ".py",
   "mimetype": "text/x-python",
   "name": "python",
   "nbconvert_exporter": "python",
   "pygments_lexer": "ipython3",
   "version": "3.5.2"
  }
 },
 "nbformat": 4,
 "nbformat_minor": 1
}
