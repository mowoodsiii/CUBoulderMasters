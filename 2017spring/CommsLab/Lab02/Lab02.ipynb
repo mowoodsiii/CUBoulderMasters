{
 "cells": [
  {
   "cell_type": "markdown",
   "metadata": {},
   "source": [
    "# Lab 02\n",
    "\n",
    "### Grad. Communications Lab :: ECEN 4652\n",
    "\n",
    "##### Maurice Woods\n",
    "\n",
    "##### 3 February 2017\n"
   ]
  },
  {
   "cell_type": "markdown",
   "metadata": {},
   "source": [
    "-------------------------------------------------------------------------------------------------------------------------\n",
    "-------------------------------------------------------------------------------------------------------------------------\n",
    "\n",
    "\n",
    "### E01 - \"showft\"  to  Approximate  FT\n",
    "\n",
    "#### Part A.)"
   ]
  },
  {
   "cell_type": "code",
   "execution_count": 1,
   "metadata": {
    "collapsed": false
   },
   "outputs": [
    {
     "name": "stdout",
     "output_type": "stream",
     "text": [
      "/home/mowoodsiii/Documents/Git/CUBoulderMasters/2017spring/CommsLab\n"
     ]
    },
    {
     "ename": "SyntaxError",
     "evalue": "invalid syntax (quick.py, line 22)",
     "output_type": "error",
     "traceback": [
      "\u001b[0;36m  File \u001b[0;32m\"/home/mowoodsiii/Documents/Git/CUBoulderMasters/2017spring/CommsLab/quick.py\"\u001b[0;36m, line \u001b[0;32m22\u001b[0m\n\u001b[0;31m    if(length=0):\u001b[0m\n\u001b[0m             ^\u001b[0m\n\u001b[0;31mSyntaxError\u001b[0m\u001b[0;31m:\u001b[0m invalid syntax\n"
     ]
    }
   ],
   "source": [
    "from pylab import *\n",
    "import ecen4652 as ecen\n",
    "import showfun                 # Note: May have to change directory to point to showfun.py\n",
    "% cd ..\n",
    "from quick import *\n",
    "% cd -\n",
    "\n",
    "Fs = 44100                     # Sampling rate\n",
    "fa, fb = 140, 164              # Frequencies fa, fb\n",
    "tlen = 0.25                    # Length of t-axis in sec\n",
    "tt = quicktt([],Fs,tlen)       # arange(0,round(Fs*tlen))/float(Fs)  # Time axis\n",
    "xt = sin(2*pi*fa*tt)-0.01*cos(2*pi*fb*tt)\n",
    "# Linear combination of two sinusoids\n",
    "sig_xt = ecen.sigWave(xt, Fs, 0)  # Put this data into a 'Waveform' class sigWave\n",
    "showfun.showft(sig_xt,[-200, 200, 1e-3])  # Display X(f), using ff_lim"
   ]
  },
  {
   "cell_type": "markdown",
   "metadata": {},
   "source": [
    "As stated, this is not very useful...it's too condensed. We need to change showft() to accept a window in which to display a certain range of data points.\n",
    "\n",
    "Changes made to showft():\n",
    "- The ff_lim = [f1,f2,llim] parameter set now controls the horizontal display of the FT\n",
    " - Method: TODO\n",
    "- The ff_lim = [f1,f2,llim] parameter set now control the vertical display of the FT\n",
    " - Method: TODO"
   ]
  },
  {
   "cell_type": "code",
   "execution_count": null,
   "metadata": {
    "collapsed": false
   },
   "outputs": [],
   "source": [
    "import importlib\n",
    "showfun.showft_plus(sig_xt,[-200, 200, 1e-3])  # Display X(f), using ff_lim"
   ]
  },
  {
   "cell_type": "markdown",
   "metadata": {},
   "source": [
    "Question:\n",
    "\n",
    "> The sine at f_a = 140Hz in x has amplitude 1, but the \"spikes\" of |X(f)| at f = +/-f_a have only amplitude 0.125. Is that right?\n",
    "\n",
    "> Hint: For CT impulse functions del(.) the area underneath the impulse determines the size\" of the impulse.\n",
    "\n",
    "Answer:\n",
    "\n",
    "> TODO"
   ]
  },
  {
   "cell_type": "markdown",
   "metadata": {},
   "source": [
    "-------------------------------------------------------------------------------------------------------------------------\n",
    "\n",
    "##### Part B.)\n",
    "\n",
    "As stated, and confirmed below, sine waves that differ too greatly in amplitude could not be visible on our plots..."
   ]
  },
  {
   "cell_type": "code",
   "execution_count": null,
   "metadata": {
    "collapsed": false,
    "scrolled": true
   },
   "outputs": [],
   "source": [
    "xt2 = sin(2*pi*fa*tt)+0.01*cos(2*pi*fb*tt)\n",
    "sig_xt2 = ecen.sigWave(xt2, Fs, 0)\n",
    "showfun.showft_plus(sig_xt2,[-200, 200, 1e-3])"
   ]
  },
  {
   "cell_type": "markdown",
   "metadata": {},
   "source": [
    "Additional changes made to showft():\n",
    "- When llim<0 in ff_lim = [f1,f2,llim], the vertical display of the FT is converted to dB\n",
    "    - Method: TODO\n",
    "\n",
    "Now, let's check our fix:"
   ]
  },
  {
   "cell_type": "code",
   "execution_count": null,
   "metadata": {
    "collapsed": false
   },
   "outputs": [],
   "source": [
    "xt = sin(2*pi*fa*tt)-0.01*cos(2*pi*fb*tt)\n",
    "sig_xt = ecen.sigWave(xt, Fs, 0)\n",
    "showfun.showft_plusplus(sig_xt,[-200, 200, -60]) # Display X(f) in dB, using ff_lim"
   ]
  },
  {
   "cell_type": "markdown",
   "metadata": {},
   "source": [
    "-------------------------------------------------------------------------------------------------------------------------\n",
    "\n",
    "##### Part C.)"
   ]
  },
  {
   "cell_type": "code",
   "execution_count": null,
   "metadata": {
    "collapsed": false,
    "scrolled": true
   },
   "outputs": [],
   "source": [
    "import os\n",
    "% cd ../Lab01\n",
    "from ftpam01 import ascii2ftpam\n",
    "% cd -\n",
    "\n",
    "Tb=1.0/100.0\n",
    "\n",
    "[sig_xt,tt,Fs]=ascii2ftpam(\"Maurice\",8,\"\",44100,1/Tb)\n",
    "# Mirror the FTPAM string about t=0s\n",
    "sig_xt = concatenate([sig_xt[::-1],sig_xt])\n",
    "\n",
    "sig_xt = ecen.sigWave(sig_xt, Fs, 0)\n",
    "showfun.showft_plusplus(sig_xt,[-2000, 2000, -40]) "
   ]
  },
  {
   "cell_type": "markdown",
   "metadata": {},
   "source": [
    "-------------------------------------------------------------------------------------------------------------------------\n",
    "-------------------------------------------------------------------------------------------------------------------------\n",
    "\n",
    "### E02 -  General PAM Transmitter \"pam10\"\n",
    "\n",
    "##### Part A.)"
   ]
  },
  {
   "cell_type": "code",
   "execution_count": null,
   "metadata": {
    "collapsed": false,
    "scrolled": false
   },
   "outputs": [],
   "source": [
    "from pamfun import *\n",
    "from pylab import *\n",
    "\n",
    "import os\n",
    "% cd ../Lab01\n",
    "from ascfun import asc2bin\n",
    "% cd - \n",
    "\n",
    "# Rectangle -----------------------------------------------------------------------------------\n",
    "Fb = 100 # Baud rate (bits/sec)\n",
    "Fs = 44100 # Sampling frequency (samples/sec)\n",
    "Sb = int(Fs/float(Fb)) # Samples per bit\n",
    "\n",
    "string = \"Maurice\"\n",
    "dn = asc2bin(string,8)\n",
    "sig_pt = ecen.sigSequ(dn,Fb)\n",
    "pam_pt = pam10(sig_pt,Fs,'rect')\n",
    "tt=quicktt(pam_pt,pam_pt.Fs)\n",
    "\n",
    "dtt = tt[int(Sb/2)::Sb]\n",
    "dpam_pt = pam_pt.sig[int(Sb/2.0)::Sb]\n",
    "\n",
    "title_str = \"Unipolar Binary PAM for String '\" + str(string) + \"', Fb=\" + str(Fb) + \"Baud, Rectangular p(t)\"\n",
    "quickplot(tt,pam_pt.sig,\"-b\",dtt,dpam_pt,\"or\",title_str,\"Time (sec)\",\"p(t)\",10,3)"
   ]
  },
  {
   "cell_type": "code",
   "execution_count": null,
   "metadata": {
    "collapsed": false
   },
   "outputs": [],
   "source": [
    "# Triangle -----------------------------------------------------------------------------------\n",
    "Fb = 100 # Baud rate (bits/sec)\n",
    "Fs = Fb\n",
    "Sb = int(Fs/float(Fb)) # Samples per bit\n",
    "\n",
    "string=\"Maurice\"\n",
    "dn = asc2bin(string,8)\n",
    "sig_pt = ecen.sigSequ(dn,Fb)\n",
    "pam_pt = pam10(sig_pt,Fs,'tri')\n",
    "tt=quicktt(pam_pt,pam_pt.Fs)\n",
    "\n",
    "dtt = tt[int(Sb/2)::Sb]\n",
    "dpam_pt = pam_pt.sig[int(Sb/2.0)::Sb]\n",
    "\n",
    "title_str=\"Unipolar Binary PAM for String '\" + str(string) + \"', Fb=\" + str(Fb) + \"Baud, Triangular p(t)\"\n",
    "quickplot(tt,pam_pt.sig,\"-b\",dtt,dpam_pt,\"or\",title_str,\"Time (sec)\",\"p(t)\",10,3)"
   ]
  },
  {
   "cell_type": "code",
   "execution_count": null,
   "metadata": {
    "collapsed": false
   },
   "outputs": [],
   "source": [
    "# Sinc -----------------------------------------------------------------------------------\n",
    "% cd ../Lab01\n",
    "from sinc_ipol import *\n",
    "% cd -\n",
    "\n",
    "Fb = 100 # Baud rate (bits/sec)\n",
    "Fs = Fb\n",
    "Sb = int(Fs/float(Fb)) # Samples per bit\n",
    "beta=4\n",
    "k=10\n",
    "fL=3000\n",
    "\n",
    "ttsinc,sinct = sinc(Fs, fL, k)\n",
    "\n",
    "string=\"Maurice\"\n",
    "dn = asc2bin(string,8)\n",
    "sig_pt = ecen.sigSequ(dn,Fb)\n",
    "pam_pt = pam10(sig_pt,Fs,'tri',[k,beta]) # TODO\n",
    "tt=quicktt(pam_pt,pam_pt.Fs)\n",
    "\n",
    "dtt = tt[int(Sb/2)::Sb]\n",
    "dpam_pt = pam_pt.sig[int(Sb/2.0)::Sb]\n",
    "\n",
    "title_str=\"Unipolar Binary PAM for String '\" + str(string) + \"', Fb=\" + str(Fb) + \"Baud, Sinc p(t), k=\" + str(k) + \", beta=\" + str(beta)\n",
    "quickplot(tt,pam_pt.sig,\"-b\",dtt,dpam_pt,\"or\",title_str,\"Time (sec)\",\"p(t)\",10,3)"
   ]
  },
  {
   "cell_type": "markdown",
   "metadata": {},
   "source": [
    "-------------------------------------------------------------------------------------------------------------------------\n",
    "\n",
    "##### Part B.)"
   ]
  },
  {
   "cell_type": "code",
   "execution_count": null,
   "metadata": {
    "collapsed": false
   },
   "outputs": [],
   "source": [
    "Fb=100\n",
    "dn = random(int(Fb/2))          # Random sequence, uniform in [0...1]\n",
    "dn = array(floor(2*dn),int)     # Random unipolar binary sequence in {0,1}\n",
    "an = 2*dn-1                     # Random polar binary sequence in {-1,+1}\n",
    "tt=quicktt(an,Fb)\n",
    "quickplot(tt,an,\"o-\",[],[],\"\",\"Polar Binary PAM for a Random String, Fb=100\",\"Time(s)\",\"Logic\")"
   ]
  },
  {
   "cell_type": "markdown",
   "metadata": {},
   "source": [
    "-------------------------------------------------------------------------------------------------------------------------\n",
    "-------------------------------------------------------------------------------------------------------------------------\n",
    "### References\n",
    "- Youtube: Interpolation - https://www.youtube.com/watch?v=vp4nKygufEc\n",
    "- Youtube: Sampleing Theorem - https://www.youtube.com/watch?v=_Z7ErH7UTMs"
   ]
  }
 ],
 "metadata": {
  "anaconda-cloud": {},
  "kernelspec": {
   "display_name": "Python [default]",
   "language": "python",
   "name": "python3"
  },
  "language_info": {
   "codemirror_mode": {
    "name": "ipython",
    "version": 3
   },
   "file_extension": ".py",
   "mimetype": "text/x-python",
   "name": "python",
   "nbconvert_exporter": "python",
   "pygments_lexer": "ipython3",
   "version": "3.5.2"
  }
 },
 "nbformat": 4,
 "nbformat_minor": 1
}
