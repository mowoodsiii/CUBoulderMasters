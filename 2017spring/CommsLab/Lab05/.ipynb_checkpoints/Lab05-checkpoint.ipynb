{
 "cells": [
  {
   "cell_type": "markdown",
   "metadata": {
    "deletable": true,
    "editable": true
   },
   "source": [
    "# Lab 05 - Power Spectral Density, Noise, and Symbol Timing Information\n",
    "\n",
    "### Maurice Woods\n",
    "\n",
    "### 7 March 2017\n"
   ]
  },
  {
   "cell_type": "markdown",
   "metadata": {
    "deletable": true,
    "editable": true
   },
   "source": [
    "------------------------------------------------------------------------------------------------------------------------------------\n",
    "------------------------------------------------------------------------------------------------------------------------------------\n",
    "## EC 01 - showpsd Python Function"
   ]
  },
  {
   "cell_type": "code",
   "execution_count": 2,
   "metadata": {
    "collapsed": false,
    "deletable": true,
    "editable": true
   },
   "outputs": [],
   "source": [
    "from pylab import *\n",
    "import ecen4652 as ecen\n",
    "import showfun\n",
    "import quick"
   ]
  },
  {
   "cell_type": "markdown",
   "metadata": {
    "deletable": true,
    "editable": true
   },
   "source": [
    "##### Part A.) - Add the showpsd function to the showfun module"
   ]
  },
  {
   "cell_type": "code",
   "execution_count": null,
   "metadata": {
    "collapsed": true
   },
   "outputs": [],
   "source": [
    "Fs = 44100 # Sampling rate\n",
    "f1 = 700 # Test frequency 1\n",
    "f2 = 720 # Test frequency 1\n",
    "tlen = 2 # Duration in seconds\n",
    "tt = arange(round(tlen*Fs))/float(Fs) # Time axis\n",
    "\n",
    "x1t = sin(2*pi*f1*tt) # Sine with freq f1\n",
    "x2t = 0.01*cos(2*pi*f2*tt) # Attenuated cosine with freq f2\n",
    "sig_xt = ecen.sigWave(x1t+x2t, Fs, 0) # Combined sinusoidal signal\n",
    "\n",
    "showfun.showpsd0(sig_xt,[-1000 1000 0],Fs) #Plot S_x(f)"
   ]
  },
  {
   "cell_type": "markdown",
   "metadata": {},
   "source": [
    "Question\n",
    "\n",
    "> Answer"
   ]
  },
  {
   "cell_type": "markdown",
   "metadata": {},
   "source": [
    "##### Part B.) - Add a feature to showpsd so that it displays the total power in the title of the plots"
   ]
  },
  {
   "cell_type": "markdown",
   "metadata": {},
   "source": [
    "Question\n",
    "\n",
    "> Answer"
   ]
  },
  {
   "cell_type": "markdown",
   "metadata": {},
   "source": [
    "##### Part C.) - Generate about 5 sec of random binary polar PAM signals with rectangular, triangular, and sinc pulses"
   ]
  },
  {
   "cell_type": "markdown",
   "metadata": {},
   "source": [
    "Question\n",
    "\n",
    "> Answer"
   ]
  },
  {
   "cell_type": "markdown",
   "metadata": {},
   "source": [
    "##### Part D.) - PSD and Measuring Power in GNU Radio"
   ]
  },
  {
   "cell_type": "markdown",
   "metadata": {},
   "source": [
    "Question\n",
    "\n",
    "> Answer"
   ]
  },
  {
   "cell_type": "markdown",
   "metadata": {},
   "source": [
    "##### Part E.) - Power in Complex-Valued Waveforms"
   ]
  },
  {
   "cell_type": "markdown",
   "metadata": {},
   "source": [
    "Question\n",
    "\n",
    "> Answer"
   ]
  },
  {
   "cell_type": "markdown",
   "metadata": {},
   "source": [
    "------------------------------------------------------------------------------------------------------------------------------------\n",
    "------------------------------------------------------------------------------------------------------------------------------------\n",
    "## EC 02 - Generating and Estimating Noise"
   ]
  },
  {
   "cell_type": "markdown",
   "metadata": {},
   "source": [
    "##### Part A.) - Generate 5 sec of white Gaussian noise"
   ]
  },
  {
   "cell_type": "code",
   "execution_count": null,
   "metadata": {
    "collapsed": true
   },
   "outputs": [],
   "source": [
    "Fs = 44100 # Sampling\n",
    "tlen = 5   # Duration\n",
    "tt = arange(round(tlen*Fs))/float(Fs)\n",
    "nt = randn(len(tt)) # Gaussian\n",
    "sig_nt = ecen.sigWave(nt, Fs, tt[0])"
   ]
  },
  {
   "cell_type": "code",
   "execution_count": null,
   "metadata": {
    "collapsed": true
   },
   "outputs": [],
   "source": [
    "import ecen4652 as ecen\n",
    "Fs = 44100 # Sampling rate\n",
    "nfL = *** enter fL value *** # Noise cutoff frequency\n",
    "tlen = 5 # Duration in seconds\n",
    "nn = randn(round(tlen*2*nfL)) # Gaussian noise, rate 2*nfL\n",
    "sig_nn = ecen.sigSequ(nn, 2*nfL, 0)\n",
    "sig_nt = pam11(sig_nn,Fs,’rcf’,[20 0.2]) #Bandlimited noise n(t), rate Fs"
   ]
  },
  {
   "cell_type": "markdown",
   "metadata": {},
   "source": [
    "Question \n",
    "\n",
    "> Answer"
   ]
  },
  {
   "cell_type": "markdown",
   "metadata": {},
   "source": [
    "##### Part B.) - Generate a random polar binary PAM signal s(t) of length 2 sec with triangular p(t)"
   ]
  },
  {
   "cell_type": "markdown",
   "metadata": {},
   "source": [
    "Question\n",
    "\n",
    "> Answer"
   ]
  },
  {
   "cell_type": "markdown",
   "metadata": {},
   "source": [
    "##### Part C.) - PAM signal SNR estimation in GNU Radio"
   ]
  },
  {
   "cell_type": "markdown",
   "metadata": {},
   "source": [
    "Question\n",
    "\n",
    "> Answer"
   ]
  },
  {
   "cell_type": "markdown",
   "metadata": {},
   "source": [
    "##### Part D.) - Complex-Valued Noise in GNU Radio"
   ]
  },
  {
   "cell_type": "markdown",
   "metadata": {},
   "source": [
    "Question\n",
    "\n",
    "> Answer"
   ]
  },
  {
   "cell_type": "code",
   "execution_count": null,
   "metadata": {
    "collapsed": true
   },
   "outputs": [],
   "source": []
  }
 ],
 "metadata": {
  "anaconda-cloud": {},
  "kernelspec": {
   "display_name": "Python 3",
   "language": "python",
   "name": "python3"
  },
  "language_info": {
   "codemirror_mode": {
    "name": "ipython",
    "version": 3
   },
   "file_extension": ".py",
   "mimetype": "text/x-python",
   "name": "python",
   "nbconvert_exporter": "python",
   "pygments_lexer": "ipython3",
   "version": "3.5.2"
  }
 },
 "nbformat": 4,
 "nbformat_minor": 1
}
