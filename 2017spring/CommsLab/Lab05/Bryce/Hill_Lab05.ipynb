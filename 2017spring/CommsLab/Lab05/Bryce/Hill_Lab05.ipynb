{
 "cells": [
  {
   "cell_type": "markdown",
   "metadata": {
    "deletable": true,
    "editable": true
   },
   "source": [
    "# Bryce Hill | ECEN 4562\n",
    "\n",
    "## Lab 05 - Power Spectral Density, Noise, and Symbol Timing Information\n",
    "\n",
    "\n",
    "\n",
    "### 3/07/17"
   ]
  },
  {
   "cell_type": "markdown",
   "metadata": {
    "deletable": true,
    "editable": true
   },
   "source": [
    "** <span style=\"color:red\"> NOTE: must run *install_bryce_lib.sh* file to install libraries onto your computer. When done simply run the *uninstall_bryce_lib.sh* script </span>. **"
   ]
  },
  {
   "cell_type": "code",
   "execution_count": 1,
   "metadata": {
    "collapsed": false,
    "deletable": true,
    "editable": true
   },
   "outputs": [
    {
     "ename": "ImportError",
     "evalue": "No module named 'scipy'",
     "output_type": "error",
     "traceback": [
      "\u001b[0;31m---------------------------------------------------------------------------\u001b[0m",
      "\u001b[0;31mImportError\u001b[0m                               Traceback (most recent call last)",
      "\u001b[0;32m<ipython-input-1-b96f094f8d0c>\u001b[0m in \u001b[0;36m<module>\u001b[0;34m()\u001b[0m\n\u001b[1;32m      1\u001b[0m \u001b[0;31m# Import libraries\u001b[0m\u001b[0;34m\u001b[0m\u001b[0;34m\u001b[0m\u001b[0m\n\u001b[1;32m      2\u001b[0m \u001b[0;32mfrom\u001b[0m \u001b[0mpylab\u001b[0m \u001b[0;32mimport\u001b[0m \u001b[0;34m*\u001b[0m\u001b[0;34m\u001b[0m\u001b[0m\n\u001b[0;32m----> 3\u001b[0;31m \u001b[0;32mimport\u001b[0m \u001b[0mscipy\u001b[0m\u001b[0;34m.\u001b[0m\u001b[0mintegrate\u001b[0m \u001b[0;32mas\u001b[0m \u001b[0mintegrate\u001b[0m\u001b[0;34m\u001b[0m\u001b[0m\n\u001b[0m\u001b[1;32m      4\u001b[0m \u001b[0;32mimport\u001b[0m \u001b[0mnumpy\u001b[0m \u001b[0;32mas\u001b[0m \u001b[0mnp\u001b[0m\u001b[0;34m\u001b[0m\u001b[0m\n\u001b[1;32m      5\u001b[0m \u001b[0;31m# Import my libraries\u001b[0m\u001b[0;34m\u001b[0m\u001b[0;34m\u001b[0m\u001b[0m\n",
      "\u001b[0;31mImportError\u001b[0m: No module named 'scipy'"
     ]
    }
   ],
   "source": [
    "# Import libraries\n",
    "from pylab import *\n",
    "import scipy.integrate as integrate\n",
    "import numpy as np\n",
    "# Import my libraries\n",
    "import my_grc\n",
    "import my_sdr as sdr\n",
    "import my_jupyter\n",
    "import my_ft as ft\n",
    "import my_ascbin as ascbin"
   ]
  },
  {
   "cell_type": "code",
   "execution_count": null,
   "metadata": {
    "collapsed": false,
    "deletable": true,
    "editable": true
   },
   "outputs": [],
   "source": [
    "print(my_grc.testmy_grc())"
   ]
  },
  {
   "cell_type": "code",
   "execution_count": null,
   "metadata": {
    "collapsed": false,
    "deletable": true,
    "editable": true
   },
   "outputs": [],
   "source": [
    "my_jupyter.my_settings()"
   ]
  },
  {
   "cell_type": "markdown",
   "metadata": {
    "deletable": true,
    "editable": true
   },
   "source": [
    "## Experiment 1:  showpsd Python Function. \n",
    "\n",
    "### -------------------------------------------------------------------------------------------------------------------------------------\n",
    " \n",
    " - ** 1.a - Add showspd to showfun (my_ft) module  **\n",
    "\n",
    "### -------------------------------------------------------------------------------------------------------------------------------------"
   ]
  },
  {
   "cell_type": "code",
   "execution_count": null,
   "metadata": {
    "collapsed": false,
    "deletable": true,
    "editable": true
   },
   "outputs": [],
   "source": [
    "Fs = 44100 # Sampling rate\n",
    "f1 = 700   # Test frequency 1\n",
    "f2 = 720   # Test frequency 1\n",
    "tlen = 2   # Duration in seconds\n",
    "tt = arange(round(tlen*Fs))/float(Fs)   # Time axis\n",
    "x1t = sin(2*pi*f1*tt)                   # Sine with freq f1\n",
    "x2t = 0.01*cos(2*pi*f2*tt)              # Attenuated cosine with freq f2\n",
    "sig_xt = sdr.sigWave(x1t+x2t, Fs, 0)    # Combined sinusoidal signal\n",
    "ft.showpsd0(sig_xt,[-1000, 1000, 0],Fs) # Plot S_x(f)"
   ]
  },
  {
   "cell_type": "code",
   "execution_count": null,
   "metadata": {
    "collapsed": false,
    "deletable": true,
    "editable": true,
    "scrolled": false
   },
   "outputs": [],
   "source": [
    "ft.showpsd0(sig_xt,[-1000, 1000, -1],Fs) # Plot S_x(f)"
   ]
  },
  {
   "cell_type": "code",
   "execution_count": null,
   "metadata": {
    "collapsed": true,
    "deletable": true,
    "editable": true
   },
   "outputs": [],
   "source": []
  },
  {
   "cell_type": "markdown",
   "metadata": {
    "deletable": true,
    "editable": true
   },
   "source": [
    "### -------------------------------------------------------------------------------------------------------------------------------------\n",
    " \n",
    " - ** 1.b - PSD power over a range of frequencies **\n",
    "\n",
    "### -------------------------------------------------------------------------------------------------------------------------------------"
   ]
  },
  {
   "cell_type": "code",
   "execution_count": null,
   "metadata": {
    "collapsed": false,
    "deletable": true,
    "editable": true
   },
   "outputs": [],
   "source": [
    "# Create a rectangular pulse\n",
    "Fs = 44100   # Sampling rate\n",
    "plen = .1    # 100 ms pulse\n",
    "pt = ones(int(Fs*float(plen)))         # Pulse of width Fs*plen = 4410\n",
    "z = zeros(int((Fs-len(pt))/float(2)))  # Need sufficient df\n",
    "pt = concatenate((z, pt, z), axis = 0) # So pad with zeros s.t. len(pt)=44100 & df = 1hz\n",
    "sig_1b = sdr.sigWave(pt.T, Fs, 0)      # Combined sinusoidal signal\n",
    "ft.showpsd0(sig_1b,[-20, 20, 0],Fs)    # Plot S_x(f)\n",
    "ft.showpsd0(sig_1b,[-40, 40, -60],Fs)   # Plot S_x(f)"
   ]
  },
  {
   "cell_type": "code",
   "execution_count": null,
   "metadata": {
    "collapsed": true,
    "deletable": true,
    "editable": true
   },
   "outputs": [],
   "source": []
  },
  {
   "cell_type": "markdown",
   "metadata": {
    "deletable": true,
    "editable": true
   },
   "source": [
    "### -------------------------------------------------------------------------------------------------------------------------------------\n",
    " \n",
    " - ** 1.c - Further Signal Power Investigation **\n",
    "\n",
    "### -------------------------------------------------------------------------------------------------------------------------------------"
   ]
  },
  {
   "cell_type": "code",
   "execution_count": null,
   "metadata": {
    "collapsed": false,
    "deletable": true,
    "editable": true
   },
   "outputs": [],
   "source": [
    "# Generate random polar binary message\n",
    "Fs = 44100                   # Sampling rate\n",
    "FB = 100                     # Baud rate\n",
    "tlen = 5                     # Length in [s] of signal\n",
    "dn = random(int(tlen*FB))       # Random sequence, uniform in [0...1]\n",
    "dn = array(floor(2*dn),int)  # Random unipolar binary sequence in {0,1}\n",
    "an = 2*dn-1                  # Random polar binary sequence in {-1,+1}\n",
    "sig_rn = sdr.sigSequ(an, 100, 0) # Put the sequenc into the sigSequ class\n",
    "\n",
    "# Convert random signal to PAM of different types\n",
    "psig_rn_tri = sdr.pam11(sig_rn,Fs,'tri','polar', 0) #Generate PAM pulse\n",
    "psig_rn_rect = sdr.pam11(sig_rn,Fs,'rect','polar', 0) #Generate PAM pulse\n",
    "psig_rn_sinc = sdr.pam11(sig_rn,Fs,'sinc','polar', 0, [3, 0]) #Generate PAM pulse\n",
    "\n",
    "# Display using showpsd\n",
    "print('Triangular Case:')\n",
    "ft.showpsd0(psig_rn_tri,[-500, 500, -60],Fs)   # Plot S_x(f)\n",
    "print('Rectangular Case:')\n",
    "ft.showpsd0(psig_rn_rect,[-500, 500, -60],Fs)   # Plot S_x(f)\n",
    "print('Sinc Case:')\n",
    "ft.showpsd0(psig_rn_sinc,[-500, 500, -60],Fs)   # Plot S_x(f)"
   ]
  },
  {
   "cell_type": "markdown",
   "metadata": {
    "deletable": true,
    "editable": true
   },
   "source": [
    "### -------------------------------------------------------------------------------------------------------------------------------------\n",
    " \n",
    " - ** 1.d -  PSD and Measuring Power in GNU Radio **\n",
    "\n",
    "### -------------------------------------------------------------------------------------------------------------------------------------"
   ]
  },
  {
   "cell_type": "markdown",
   "metadata": {
    "deletable": true,
    "editable": true
   },
   "source": [
    "Rectangular pulse AVG Power:"
   ]
  },
  {
   "cell_type": "markdown",
   "metadata": {
    "collapsed": false,
    "deletable": true,
    "editable": true,
    "scrolled": false
   },
   "source": [
    "![title](img/Exp1_d0rec.png)"
   ]
  },
  {
   "cell_type": "markdown",
   "metadata": {
    "deletable": true,
    "editable": true
   },
   "source": [
    "![title](img/Exp1_d1rec.png)"
   ]
  },
  {
   "cell_type": "markdown",
   "metadata": {
    "deletable": true,
    "editable": true
   },
   "source": [
    "Triangular pulse AVG power:"
   ]
  },
  {
   "cell_type": "markdown",
   "metadata": {
    "deletable": true,
    "editable": true
   },
   "source": [
    "![title](img/Exp1_d0tri.png)"
   ]
  },
  {
   "cell_type": "markdown",
   "metadata": {
    "deletable": true,
    "editable": true
   },
   "source": [
    "![title](img/Exp1_d1tri.png)"
   ]
  },
  {
   "cell_type": "markdown",
   "metadata": {
    "deletable": true,
    "editable": true
   },
   "source": [
    "Manchester Pulse AVG Power:"
   ]
  },
  {
   "cell_type": "markdown",
   "metadata": {
    "deletable": true,
    "editable": true
   },
   "source": [
    "![title](img/Exp1_d0man.png)"
   ]
  },
  {
   "cell_type": "markdown",
   "metadata": {
    "deletable": true,
    "editable": true
   },
   "source": [
    "![title](img/Exp1_d1man.png)"
   ]
  },
  {
   "cell_type": "markdown",
   "metadata": {
    "deletable": true,
    "editable": true
   },
   "source": [
    "Sinc Pulse AVG Power:"
   ]
  },
  {
   "cell_type": "markdown",
   "metadata": {
    "deletable": true,
    "editable": true
   },
   "source": [
    "![title](img/Exp1_d0sinc.png)"
   ]
  },
  {
   "cell_type": "markdown",
   "metadata": {
    "deletable": true,
    "editable": true
   },
   "source": [
    "![title](img/Exp1_d1sinc.png)"
   ]
  },
  {
   "cell_type": "markdown",
   "metadata": {
    "deletable": true,
    "editable": true
   },
   "source": [
    "RCF Pulse AVG Power: "
   ]
  },
  {
   "cell_type": "markdown",
   "metadata": {
    "deletable": true,
    "editable": true
   },
   "source": []
  },
  {
   "cell_type": "markdown",
   "metadata": {
    "deletable": true,
    "editable": true
   },
   "source": []
  },
  {
   "cell_type": "markdown",
   "metadata": {
    "collapsed": true,
    "deletable": true,
    "editable": true
   },
   "source": [
    "### -------------------------------------------------------------------------------------------------------------------------------------\n",
    " \n",
    " - ** 1.e Power in Complex-Valued Waveforms.  **\n",
    "\n",
    "### -------------------------------------------------------------------------------------------------------------------------------------"
   ]
  },
  {
   "cell_type": "code",
   "execution_count": null,
   "metadata": {
    "collapsed": true,
    "deletable": true,
    "editable": true
   },
   "outputs": [],
   "source": []
  },
  {
   "cell_type": "code",
   "execution_count": null,
   "metadata": {
    "collapsed": true,
    "deletable": true,
    "editable": true
   },
   "outputs": [],
   "source": []
  },
  {
   "cell_type": "code",
   "execution_count": null,
   "metadata": {
    "collapsed": true,
    "deletable": true,
    "editable": true
   },
   "outputs": [],
   "source": []
  },
  {
   "cell_type": "code",
   "execution_count": null,
   "metadata": {
    "collapsed": true,
    "deletable": true,
    "editable": true
   },
   "outputs": [],
   "source": []
  },
  {
   "cell_type": "markdown",
   "metadata": {
    "deletable": true,
    "editable": true
   },
   "source": [
    "## Experiment 2:  . Generating and Estimating Noise\n",
    "\n",
    "### -------------------------------------------------------------------------------------------------------------------------------------\n",
    " \n",
    " - ** 2.a - White Gaussian Noise Generation **\n",
    "\n",
    "### -------------------------------------------------------------------------------------------------------------------------------------"
   ]
  },
  {
   "cell_type": "code",
   "execution_count": null,
   "metadata": {
    "collapsed": false,
    "deletable": true,
    "editable": true
   },
   "outputs": [],
   "source": [
    "Fs = 44100 # Sampling rate\n",
    "tlen = 5   # Duration in seconds\n",
    "tt = arange(round(tlen*Fs))/float(Fs) # Time axis\n",
    "nt = randn(len(tt))                   # Gaussian noise n(t)\n",
    "sig_nt = sdr.sigWave(nt, Fs, tt[0])\n",
    "ft.showpsd0(sig_nt,[-20000, 20000, -60],Fs)    # Plot S_x(f)"
   ]
  },
  {
   "cell_type": "code",
   "execution_count": null,
   "metadata": {
    "collapsed": false,
    "deletable": true,
    "editable": true
   },
   "outputs": [],
   "source": [
    "# Band Limited White Gaussian Noise\n",
    "Fs = 44100                    # Sampling rate\n",
    "nfL = 4000                    # Noise cutoff frequency\n",
    "tlen = 5                      # Duration in seconds\n",
    "nn = randn(round(tlen*2*nfL)) # Gaussian noise, rate 2*nfL\n",
    "sig_nn = sdr.sigSequ(nn, 2*nfL, 0)\n",
    "sig_nt = sdr.pam11(sig_nn,Fs,'rcf','unipolar', 0, [20, 0.2]) #Bandlimited noise n(t), rate Fs\n",
    "ft.showpsd0(sig_nt,[-10000, 10000, -60],Fs)    # Plot S_x(f)"
   ]
  },
  {
   "cell_type": "code",
   "execution_count": null,
   "metadata": {
    "collapsed": true,
    "deletable": true,
    "editable": true
   },
   "outputs": [],
   "source": []
  },
  {
   "cell_type": "markdown",
   "metadata": {
    "deletable": true,
    "editable": true
   },
   "source": [
    "### -------------------------------------------------------------------------------------------------------------------------------------\n",
    " \n",
    " - ** 2.b - White Gaussian Noise Investigation **\n",
    "\n",
    "### -------------------------------------------------------------------------------------------------------------------------------------"
   ]
  },
  {
   "cell_type": "code",
   "execution_count": null,
   "metadata": {
    "collapsed": true,
    "deletable": true,
    "editable": true
   },
   "outputs": [],
   "source": [
    "# Generate random polar binary message\n",
    "Fs = 44100                   # Sampling rate\n",
    "FB = 100                     # Baud rate\n",
    "tlen = 2                     # Length in [s] of signal\n",
    "dn = random(int(tlen*FB))       # Random sequence, uniform in [0...1]\n",
    "dn = array(floor(2*dn),int)  # Random unipolar binary sequence in {0,1}\n",
    "an = 2*dn-1                  # Random polar binary sequence in {-1,+1}\n",
    "sig_rn = sdr.sigSequ(an, FB, 0) # Put the sequenc into the sigSequ class\n",
    "\n",
    "# Convert random signal to PAM of different types\n",
    "st = sdr.pam11(sig_rn,Fs,'tri','polar', 0) #Generate PAM pulse"
   ]
  },
  {
   "cell_type": "code",
   "execution_count": null,
   "metadata": {
    "collapsed": false,
    "deletable": true,
    "editable": true
   },
   "outputs": [],
   "source": [
    "nfL = FB                               # Noise cutoff frequency\n",
    "nn = randn(round(tlen*2*nfL))          # Gaussian noise, rate 2*nfL\n",
    "sig_nn = sdr.sigSequ(nn, 2*nfL, 0)     # Honestly not sure about this 2 here?\n",
    "nt = sdr.pam11(sig_nn,Fs,'rcf','unipolar', 0, [20, 0.2])  # Bandlimited noise n(t), rate Fs\n",
    "ft.showpsd0(sig_nt,[-250, 250, -60],Fs)                 # Plot S_x(f)"
   ]
  },
  {
   "cell_type": "code",
   "execution_count": null,
   "metadata": {
    "collapsed": false,
    "deletable": true,
    "editable": true
   },
   "outputs": [],
   "source": [
    "A = 8000\n",
    "rt = st.sig + A*nt.sig\n",
    "rt = sdr.sigWave(rt, Fs, 0)\n",
    "L = 2       # Number of data levels\n",
    "dly = 0.5   # Trigger delay TB/2\n",
    "NTd = 150   # Number of data symbols\n",
    "ft.showeye(rt, FB, NTd, [dly, 3, -1.5*L, 1.5*L])"
   ]
  },
  {
   "cell_type": "code",
   "execution_count": null,
   "metadata": {
    "collapsed": false,
    "deletable": true,
    "editable": true
   },
   "outputs": [],
   "source": [
    "# SNR = A\n",
    "print(20*log10(A), '[dB]')"
   ]
  },
  {
   "cell_type": "markdown",
   "metadata": {
    "deletable": true,
    "editable": true
   },
   "source": [
    "### -------------------------------------------------------------------------------------------------------------------------------------\n",
    " \n",
    " - ** 2.c PAM signal SNR estimation in GNU Radio   **\n",
    "\n",
    "### -------------------------------------------------------------------------------------------------------------------------------------"
   ]
  },
  {
   "cell_type": "code",
   "execution_count": null,
   "metadata": {
    "collapsed": false,
    "deletable": true,
    "editable": true
   },
   "outputs": [],
   "source": [
    "Fs = 512000\n",
    "FB = 32000\n",
    "# Read wavfile\n",
    "[db5, Fs] = sdr.wavread('Exp2_c5.wav')\n",
    "[db10, Fs] = sdr.wavread('Exp2_c10.wav')\n",
    "[db20, Fs] = sdr.wavread('Exp2_c20.wav')\n",
    "[db20_comp, Fs] = sdr.wavread('Exp2_c20_comp.wav')\n",
    "\n",
    "# Convert to class that showeye will understand\n",
    "db5 = sdr.sigWave(db5, Fs, 0)\n",
    "db10 = sdr.sigWave(db10, Fs, 0)\n",
    "db20 = sdr.sigWave(db20, Fs, 0)\n",
    "db20_comp = sdr.sigWave(db20_comp, Fs, 0)\n",
    "\n",
    "# Set up parameters for showeye\n",
    "L = 2       # Number of data levels\n",
    "dly = 1     # Trigger delay TB/2\n",
    "NTd = 150   # Number of data symbols"
   ]
  },
  {
   "cell_type": "markdown",
   "metadata": {
    "deletable": true,
    "editable": true
   },
   "source": [
    "## 5 dB Case"
   ]
  },
  {
   "cell_type": "code",
   "execution_count": null,
   "metadata": {
    "collapsed": false,
    "deletable": true,
    "editable": true
   },
   "outputs": [],
   "source": [
    "ft.showeye(db5, FB, NTd, [dly, 3, -1.5*L, 1.5*L])"
   ]
  },
  {
   "cell_type": "markdown",
   "metadata": {
    "deletable": true,
    "editable": true
   },
   "source": [
    "## 10 dB Case"
   ]
  },
  {
   "cell_type": "code",
   "execution_count": null,
   "metadata": {
    "collapsed": false,
    "deletable": true,
    "editable": true
   },
   "outputs": [],
   "source": [
    "ft.showeye(db10, FB, NTd, [dly, 3, -1.5*L, 1.5*L])"
   ]
  },
  {
   "cell_type": "markdown",
   "metadata": {
    "deletable": true,
    "editable": true
   },
   "source": [
    "## 20 dB Case"
   ]
  },
  {
   "cell_type": "code",
   "execution_count": null,
   "metadata": {
    "collapsed": false,
    "deletable": true,
    "editable": true
   },
   "outputs": [],
   "source": [
    "ft.showeye(db20, FB, NTd, [dly, 3, -1.5*L, 1.5*L])"
   ]
  },
  {
   "cell_type": "markdown",
   "metadata": {
    "deletable": true,
    "editable": true
   },
   "source": [
    "## 20 dB Case Comparison"
   ]
  },
  {
   "cell_type": "code",
   "execution_count": null,
   "metadata": {
    "collapsed": false,
    "deletable": true,
    "editable": true
   },
   "outputs": [],
   "source": [
    "ft.showeye(db20_comp, FB, NTd, [dly, 3, -1.5*L, 1.5*L])"
   ]
  },
  {
   "cell_type": "markdown",
   "metadata": {
    "deletable": true,
    "editable": true
   },
   "source": [
    "The eye diagram of the PAM signal with SNR = 20 and bandwidth = FB/2 has a reduced eye. With the bandwidth smaller in the frequency domain the signal has much slower waves. This can be seen by the transitions from .5 multiples of t/TB. The lines running from .5 t/TB to 1.5 t/TB for example, have appear to be sinusoidal of much lower frequency than those of the previous eye diagram. Thus occluding the eye. "
   ]
  },
  {
   "cell_type": "markdown",
   "metadata": {
    "deletable": true,
    "editable": true
   },
   "source": [
    "### -------------------------------------------------------------------------------------------------------------------------------------\n",
    " \n",
    " - ** 2.d Complex-Valued Noise in GNU Radio.    **\n",
    "\n",
    "### -------------------------------------------------------------------------------------------------------------------------------------"
   ]
  },
  {
   "cell_type": "code",
   "execution_count": null,
   "metadata": {
    "collapsed": true,
    "deletable": true,
    "editable": true
   },
   "outputs": [],
   "source": []
  }
 ],
 "metadata": {
  "kernelspec": {
   "display_name": "Python 3",
   "language": "python",
   "name": "python3"
  },
  "language_info": {
   "codemirror_mode": {
    "name": "ipython",
    "version": 3
   },
   "file_extension": ".py",
   "mimetype": "text/x-python",
   "name": "python",
   "nbconvert_exporter": "python",
   "pygments_lexer": "ipython3",
   "version": "3.5.2"
  }
 },
 "nbformat": 4,
 "nbformat_minor": 2
}
