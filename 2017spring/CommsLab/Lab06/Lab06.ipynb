{
 "cells": [
  {
   "cell_type": "markdown",
   "metadata": {
    "deletable": true,
    "editable": true
   },
   "source": [
    "# Lab 06 - PAM Receiver with Matched Filter and Symbol Timing Extraction\n",
    "\n",
    "### Maurice Woods\n",
    "\n",
    "### 14 March 2017\n"
   ]
  },
  {
   "cell_type": "markdown",
   "metadata": {
    "deletable": true,
    "editable": true
   },
   "source": [
    "------------------------------------------------------------------------------------------------------------------------------------\n",
    "------------------------------------------------------------------------------------------------------------------------------------\n",
    "## EC 01 - LPF with Trapezoidal Frequency Response"
   ]
  },
  {
   "cell_type": "code",
   "execution_count": null,
   "metadata": {
    "collapsed": false,
    "deletable": true,
    "editable": true
   },
   "outputs": [],
   "source": [
    "from pylab import *\n",
    "import ecen4652 as ecen\n",
    "import quick\n",
    "import filtfun\n",
    "import filtspecs\n",
    "import showfun"
   ]
  },
  {
   "cell_type": "markdown",
   "metadata": {
    "deletable": true,
    "editable": true
   },
   "source": [
    "##### Part A)\n",
    "\n",
    "Make a Python module called \"filtfun\" and start the module with a function called \"trapfilt()\". This fucuntion should generate a truncated version hT(t) of the impulse response given above and use it to filter an input signal x(t) and produce a delay-compensated output signal y(t).\n",
    "\n",
    "> Answer"
   ]
  },
  {
   "cell_type": "markdown",
   "metadata": {
    "deletable": true,
    "editable": true
   },
   "source": [
    "##### Part B)\n",
    "\n",
    "To test trapfilt, let Fs=16000 Hz, use a time axis from -0.5 to 0.5 sec, and generate a unit impulse at t = 0.\n",
    "\n",
    "> Answer"
   ]
  },
  {
   "cell_type": "code",
   "execution_count": null,
   "metadata": {
    "collapsed": false,
    "deletable": true,
    "editable": true
   },
   "outputs": [],
   "source": [
    "Fs=16000\n",
    "t0=-0.5\n",
    "t=1\n",
    "xt=concatenate([zeros(int(Fs/2)),[1],zeros(Fs-int(Fs/2))])\n",
    "\n",
    "sig_xt=ecen.sigWave(xt, Fs, t0)\n",
    "fL=1000\n",
    "k=20\n",
    "alfa=0.2\n",
    "\n",
    "[trap_xt,n]=filtfun.trapfilt0(sig_xt,fL,k,alfa)\n",
    "showfun.showft(trap_xt,[-3000,3000,0])\n",
    "showfun.showft(trap_xt,[-3000,3000,-60])"
   ]
  },
  {
   "cell_type": "markdown",
   "metadata": {
    "deletable": true,
    "editable": true
   },
   "source": [
    "##### Part C)\n",
    "\n",
    "Look at the PSD of this signal and then use trapfilt to lowpass filter the signal with fL ≈ 1000 Hz, k ≈ 10, and α ≈ 0.2. Determine the baud rate FB (look at the PSD of the lowpass filtered signal squared), and then use this information to display the eye diagram (use a width of 3TB and superimpose about 100 traces) of the lowpass filtered PAM signal. Change fL to find the value that gives you the largest eye opening. How is this fL related to FB?\n",
    "\n",
    "> Answer"
   ]
  },
  {
   "cell_type": "code",
   "execution_count": null,
   "metadata": {
    "collapsed": false,
    "deletable": true,
    "editable": true
   },
   "outputs": [],
   "source": [
    "import wavfun\n",
    "[seq, framerate] = wavfun.wavread(\"pamsig601.wav\")\n",
    "tt=quick.quicktt(seq,framerate)\n",
    "quick.quickplot(tt[0:200],seq[0:200])\n",
    "\n",
    "sig_xt = ecen.sigWave(seq, framerate)\n",
    "showfun.showpsd1(sig_xt,[-1000, 1000, 0],framerate) #Plot S_x(f)"
   ]
  },
  {
   "cell_type": "code",
   "execution_count": null,
   "metadata": {
    "collapsed": false,
    "deletable": true,
    "editable": true
   },
   "outputs": [],
   "source": [
    "fL=1000\n",
    "k=10\n",
    "alfa=0.2\n",
    "[trap_xt,n]=filtfun.trapfilt0(sig_xt,fL,k,alfa)\n",
    "trap_xt_sqrd = trap_xt.copy()\n",
    "\n",
    "trap_xt_sqrd.sig = trap_xt_sqrd.sig**2\n",
    "showfun.showpsd1(trap_xt_sqrd,[-1000, 1000, 0],framerate) #Plot S_x(f)"
   ]
  },
  {
   "cell_type": "code",
   "execution_count": null,
   "metadata": {
    "collapsed": false,
    "deletable": true,
    "editable": true
   },
   "outputs": [],
   "source": [
    "showfun.showpsd1(trap_xt_sqrd,[810, 820, 0],framerate) #Plot S_x(f)"
   ]
  },
  {
   "cell_type": "code",
   "execution_count": null,
   "metadata": {
    "collapsed": false,
    "deletable": true,
    "editable": true
   },
   "outputs": [],
   "source": [
    "NTd=100\n",
    "L=2\n",
    "dly=0.5\n",
    "FB=815\n",
    "showfun.showeye(trap_xt, FB, NTd, [dly, 3, -1.5*L, 1.5*L])"
   ]
  },
  {
   "cell_type": "markdown",
   "metadata": {
    "deletable": true,
    "editable": true
   },
   "source": [
    "##### Part D)\n",
    "\n",
    "Start a new Python module filtspecs.py with a function called _trapfilt_taps_ that computes the taps for a FIR LPF with trapezoidal frequency response. Place the filtspecs.py module in one of the directories in your PYTHONPATH and generate a GNU Radio flowgraph that can be used to test the _trapfilt_ taps in a decimating or interpolating FIR filter block. Describe your measurement procedure and how the results that you measured verify the correct implementation of the LPF with a trapezoidal frequency response in GNU Radio.\n",
    "\n",
    "> Answer"
   ]
  },
  {
   "cell_type": "markdown",
   "metadata": {
    "deletable": true,
    "editable": true
   },
   "source": [
    "## EC 02 - PAM Transmitter/Receiver"
   ]
  },
  {
   "cell_type": "code",
   "execution_count": 1,
   "metadata": {
    "collapsed": false
   },
   "outputs": [],
   "source": [
    "from pylab import *\n",
    "import ecen4652 as ecen\n",
    "import quick\n",
    "from ascfun import asc2bin\n",
    "import pamfun"
   ]
  },
  {
   "cell_type": "markdown",
   "metadata": {
    "deletable": true,
    "editable": true
   },
   "source": [
    "##### Part A)\n",
    "\n",
    "Update your pam11 function to include the RRCf (root raised cosine in frequency) pulse called pam12\n",
    "\n",
    "> Answer"
   ]
  },
  {
   "cell_type": "code",
   "execution_count": 5,
   "metadata": {
    "collapsed": false
   },
   "outputs": [
    {
     "data": {
      "image/png": "[encoded data removed]",
      "text/plain": [
       "<matplotlib.figure.Figure at 0x7fe651a63358>"
      ]
     },
     "metadata": {},
     "output_type": "display_data"
    },
    {
     "data": {
      "image/png": "[encoded data removed]",
      "text/plain": [
       "<matplotlib.figure.Figure at 0x7fe64f9d9c88>"
      ]
     },
     "metadata": {},
     "output_type": "display_data"
    }
   ],
   "source": [
    "Fb = 350 # Baud rate (bits/sec)\n",
    "Fs = 44100 # Sampling frequency (samples/sec)\n",
    "\n",
    "string=\"Test\"\n",
    "dn = asc2bin(string,8)\n",
    "dn = multiply(dn,2)-1\n",
    "\n",
    "sig_pt = ecen.sigSequ(dn,Fb)\n",
    "\n",
    "pam_pt = pamfun.pam12(sig_pt,Fs,'tri',[5,0.4])"
   ]
  },
  {
   "cell_type": "markdown",
   "metadata": {
    "deletable": true,
    "editable": true
   },
   "source": [
    "##### Part B)\n",
    "\n",
    "For the module pamfun.py, write a Python function called pamrcvr10 (PAM receiver V1.0) which implements a receiver, with matched filter and sampler, for (noisy) PAM signals.\n",
    "\n",
    "> Answer"
   ]
  },
  {
   "cell_type": "markdown",
   "metadata": {
    "deletable": true,
    "editable": true
   },
   "source": [
    "##### Part C)\n",
    "\n",
    "Use showpsd in combination with trapfilt and time domain plots to analyze the PAM signals sufficiently so that you can use your pamrcvr10 function to recover the ASCII text in each case.\n",
    "\n",
    "> Answer"
   ]
  },
  {
   "cell_type": "markdown",
   "metadata": {
    "deletable": true,
    "editable": true
   },
   "source": [
    "##### Part D)\n",
    "\n",
    "Question\n",
    "\n",
    "> Answer"
   ]
  },
  {
   "cell_type": "markdown",
   "metadata": {
    "deletable": true,
    "editable": true
   },
   "source": [
    "##### Part E)\n",
    "\n",
    "Question\n",
    "\n",
    "> Answer"
   ]
  },
  {
   "cell_type": "markdown",
   "metadata": {
    "deletable": true,
    "editable": true
   },
   "source": [
    "##### Part F)\n",
    "\n",
    "Question\n",
    "\n",
    "> Answer"
   ]
  }
 ],
 "metadata": {
  "anaconda-cloud": {},
  "kernelspec": {
   "display_name": "Python 3",
   "language": "python",
   "name": "python3"
  },
  "language_info": {
   "codemirror_mode": {
    "name": "ipython",
    "version": 3
   },
   "file_extension": ".py",
   "mimetype": "text/x-python",
   "name": "python",
   "nbconvert_exporter": "python",
   "pygments_lexer": "ipython3",
   "version": "3.5.2"
  }
 },
 "nbformat": 4,
 "nbformat_minor": 1
}
