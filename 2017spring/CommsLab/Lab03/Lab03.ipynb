{
 "cells": [
  {
   "cell_type": "markdown",
   "metadata": {},
   "source": [
    "# Lab 03\n",
    "\n",
    "### Grad. Communications Lab :: ECEN 4652\n",
    "\n",
    "##### Maurice Woods\n",
    "\n",
    "##### 10 February 2017"
   ]
  },
  {
   "cell_type": "markdown",
   "metadata": {},
   "source": [
    "-------------------------------------------------------------------------------------------------------------------------\n",
    "-------------------------------------------------------------------------------------------------------------------------\n",
    "### E01 - Install GNU Radio and Try it Out\n",
    "##### Part A)\n",
    "Install a Virtual Machine, Install Ubuntu, and Install GNU Radio\n",
    "\n",
    "> I have installed GNU Radio inside of my previously-installed VM Virtualbox instance of Ubuntu Linux 16.04 LTS (x86-64)"
   ]
  },
  {
   "cell_type": "markdown",
   "metadata": {},
   "source": [
    "##### Part B)\n",
    "Try out GNU Radio; Explore signal addition, multiplication, and Frequency/Time Domain Displays\n",
    "\n",
    "> ##### 1.1 - Getting Started with the GNU Radio Companion\n",
    "> Signal Source and Throttle blocks added to the workspace\n",
    "![1.1](1part1.png)\n",
    "\n",
    "> ##### 1.2 - A Cosine Waveform Generator in the GNU Radio Companion\n",
    "> TODO\n",
    "![1.2](1part2.png)\n",
    "\n",
    "> ##### 1.3  - A Cosine Waveform Generator with Variable Frequency and Sound\n",
    "> TODO: Difference in negative and positive frequencies\n",
    "![1.3](1part3.png)\n",
    "\n",
    "> ##### 1.4 - More General Waveform Generator with Variable Frequency and Offset\n",
    "> TODO\n",
    "![1.4](1part4.png)\n",
    "\n",
    "> ##### 1.5 - Generating a Waveform Using a Vector Source\n",
    "> The\n",
    "![1.5](1part5.p)\n",
    "\n",
    "> ##### 1.6 - Using a Lowpass Filter\n",
    "> The\n",
    "\n",
    "> ##### 1.7 - Complex-Valued Waveform Generator\n",
    "> The\n",
    "\n",
    "> ##### 1.8 - Generating an Amplitude Modulated Signal\n",
    "> The"
   ]
  },
  {
   "cell_type": "markdown",
   "metadata": {},
   "source": [
    "##### Part C)\n",
    "Try out GNU Radio; Comparison of cosine, rectangular, and triangular PSDs to sawtooth PSD.\n",
    "\n",
    "> TODO"
   ]
  },
  {
   "cell_type": "markdown",
   "metadata": {},
   "source": [
    "-------------------------------------------------------------------------------------------------------------------------\n",
    "-------------------------------------------------------------------------------------------------------------------------\n",
    "### E02 - Generation of Test Signals in GNU Radio\n",
    "##### Part A)\n",
    "Use a “Vector Source” to generate a sinusoidal pulse\n",
    "\n",
    "> TODO"
   ]
  },
  {
   "cell_type": "markdown",
   "metadata": {},
   "source": [
    "##### Part B)\n",
    "Generate a signal with variable frequency\n",
    "\n",
    "> TODO"
   ]
  },
  {
   "cell_type": "markdown",
   "metadata": {},
   "source": [
    "##### Part C)\n",
    "Make an \"Interpolating FIR Filter\" in the script \"ptfun.py\"\n",
    "\n",
    "> TODO"
   ]
  }
 ],
 "metadata": {
  "anaconda-cloud": {},
  "kernelspec": {
   "display_name": "Python [default]",
   "language": "python",
   "name": "python3"
  },
  "language_info": {
   "codemirror_mode": {
    "name": "ipython",
    "version": 3
   },
   "file_extension": ".py",
   "mimetype": "text/x-python",
   "name": "python",
   "nbconvert_exporter": "python",
   "pygments_lexer": "ipython3",
   "version": "3.5.2"
  }
 },
 "nbformat": 4,
 "nbformat_minor": 1
}
