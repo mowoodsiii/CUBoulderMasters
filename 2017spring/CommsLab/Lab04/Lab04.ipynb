{
 "cells": [
  {
   "cell_type": "markdown",
   "metadata": {
    "deletable": true,
    "editable": true
   },
   "source": [
    "# Lab 04 - Sampling, Nyquist, Eye Diagrams, PR Signaling\n",
    "\n",
    "### Maurice Woods\n",
    "\n",
    "### 17 February 2017\n"
   ]
  },
  {
   "cell_type": "markdown",
   "metadata": {
    "deletable": true,
    "editable": true
   },
   "source": [
    "------------------------------------------------------------------------------------------------------------------------------------\n",
    "------------------------------------------------------------------------------------------------------------------------------------\n",
    "## EC 01 - Sampling  Theorem,  and  PAM  with  Manchester  and 'RCf' p(t)\n",
    "\n",
    "##### Part A) - Build the GRC flowgraph for the visualization of the sampling theorem given in the introduction (f0=2700Hz)"
   ]
  },
  {
   "cell_type": "code",
   "execution_count": 1,
   "metadata": {
    "collapsed": true,
    "deletable": true,
    "editable": true
   },
   "outputs": [],
   "source": [
    "# Thing"
   ]
  },
  {
   "cell_type": "markdown",
   "metadata": {
    "deletable": true,
    "editable": true
   },
   "source": [
    "Observe the reconstructed ‘CT’ waveform and explain why it does not have a frequency of 2700 Hz\n",
    "\n",
    "> Cosine Wave; f0 = 1000Hz\n",
    "> ![1A.1](E1_A_1.png)\n",
    ">\n",
    "> Cosine Wave; f0 = 2700Hz\n",
    "> ![1A.2](E1_A_2.png)\n",
    ">\n",
    "> The "
   ]
  },
  {
   "cell_type": "markdown",
   "metadata": {
    "deletable": true,
    "editable": true
   },
   "source": [
    "---------------------\n",
    "##### Part B) - Input a 1000 Hz square wave into the flowgraph of Part A)"
   ]
  },
  {
   "cell_type": "code",
   "execution_count": 2,
   "metadata": {
    "collapsed": true,
    "deletable": true,
    "editable": true
   },
   "outputs": [],
   "source": [
    "# Thing"
   ]
  },
  {
   "cell_type": "markdown",
   "metadata": {
    "deletable": true,
    "editable": true
   },
   "source": [
    "Does the  reconstructed  ‘CT’  waveform  at  the  output  look  as  expected? Explain! \n",
    "\n",
    "> Square Wave; f0 = 1000Hz\n",
    "> ![1B.1](E1_B_1.png)\n",
    "> \n",
    "> The\n",
    "\n",
    "Change the frequency of the square wave to 1200 Hz. Explain the reconstructed waveform that you see\n",
    "using explanations in both the time and frequency domains\n",
    "\n",
    "> Square Wave; f0 = 1200Hz\n",
    "> ![1B.2](E1_B_2.png)\n",
    ">\n",
    "> The "
   ]
  },
  {
   "cell_type": "markdown",
   "metadata": {
    "deletable": true,
    "editable": true
   },
   "source": [
    "-----\n",
    "##### Part C) - Build  the  GRC  flowgraph  that  uses  a  bandpass  filter  for  the  ‘CT’  waveform  reconstruction\n",
    "\n",
    "Verify that input and output ‘CT’ waveforms are identical.\n",
    "\n",
    "> The"
   ]
  },
  {
   "cell_type": "markdown",
   "metadata": {
    "deletable": true,
    "editable": true
   },
   "source": [
    "-----\n",
    "##### Part D) - Extend the pam10 function in the pamfun module to include the RCf pulse with rolloff parameter α and  truncation  index k and  the manchester or diphase pulse\n",
    "\n"
   ]
  },
  {
   "cell_type": "markdown",
   "metadata": {
    "deletable": true,
    "editable": true
   },
   "source": [
    "-----\n",
    "##### Part E) -  Generate a  PAM  pulse p(t)  using your pam11 function\n",
    "\n",
    "Verify that p(t) and P(f) look right for the manchester and the RCf pulses that you added to the pam11 function.\n",
    "\n",
    "> The"
   ]
  },
  {
   "cell_type": "code",
   "execution_count": null,
   "metadata": {
    "collapsed": true
   },
   "outputs": [],
   "source": [
    "from pylab import *\n",
    "import ecen4652 as ecen\n",
    "import pamfun\n",
    "import showfun\n",
    "Fs = 44100                     #Sampling rate\n",
    "FB = 350                       #Baud rate\n",
    "N = FB                         #Number of symbols\n",
    "an = hstack((zeros(round(N/2)), 1, zeros(round(N/2)-1)))\n",
    "#Single pulse, padded with zeros\n",
    "sig_an = ecen.sigSequ(an, FB, 0)\n",
    "# ***** Set ptype, pparms here *****\n",
    "sig_pt = pamfun.pam11(sig_an,Fs,ptype,pparms)  #Generate PAM pulse\n",
    "sig_pt.set_t0(-(N/2)/float(FB))    #Place center of pulse at t=0\n",
    "# ***** Set ff_parms here *****\n",
    "showfun.showft(sig_pt,ff_parms) #Plot FT of pulse"
   ]
  },
  {
   "cell_type": "markdown",
   "metadata": {
    "deletable": true,
    "editable": true
   },
   "source": [
    "------------------------------------------------------------------------------------------------------------------------------------\n",
    "------------------------------------------------------------------------------------------------------------------------------------\n",
    "## EC 02 -  PAM Analysis with Eye Diagrams\n",
    "\n",
    "##### Part A) - Write a Python function, called showeye that can be used to display eye diagrams of digital PAM signals"
   ]
  },
  {
   "cell_type": "code",
   "execution_count": null,
   "metadata": {
    "collapsed": true
   },
   "outputs": [],
   "source": [
    "from pylab import *\n",
    "import pamfun\n",
    "import showfun\n",
    "Fs = 44100                     # Sampling rate\n",
    "FB = 200                       # Baud rate\n",
    "NTd = 50                       # Number of traces displayed\n",
    "N = NTd+10                     # Number of data symbols\n",
    "L = 4                          # Number of data levels\n",
    "dly = 0.5                      # Trigger delay TB/2\n",
    "dn = floor(L*rand(N))          # Unipolar L-level random data\n",
    "an = 2*dn - (L-1)              # Polar L-level DT sequence\n",
    "tt, st = pamfun.pam11(an, FB, Fs, ’sinc’, [20, 0])\n",
    "# PAM signal, ’sinc’ p(t)\n",
    "showfun.showeye(st, Fs, FB, NTd, [dly, 3, -1.5*L, 1.5*L])"
   ]
  },
  {
   "cell_type": "markdown",
   "metadata": {
    "deletable": true,
    "editable": true
   },
   "source": [
    "##### Part B) -  Find out as much as possible about the pamsig401.wav and pamsig402.wav PAM signals.  In particular, try to find FB, p(t), and the number of levels L.  Also, try to characterize channel impairments (if any) like ISI, noise, and timing jitter"
   ]
  },
  {
   "cell_type": "markdown",
   "metadata": {
    "deletable": true,
    "editable": true
   },
   "source": [
    "##### Part C) - Use scipy.signal.butter  to  compute the numerator and the denominator polynomial coefficients of the rational transfer function H(z) of an N-th order DT Butterworth filter\n",
    "\n",
    "What can you conclude for the channel bandwidth that is needed for reliable detection of the transmitted data? \n",
    "\n",
    "> The\n",
    "\n",
    "Look at the eye diagram below that was obtained using the GNU Radio flowgraph of this experiment.  Can you determine the N and the fL that was used for the Butterworth filter?\n",
    "\n",
    "> The"
   ]
  }
 ],
 "metadata": {
  "anaconda-cloud": {},
  "kernelspec": {
   "display_name": "Python 3",
   "language": "python",
   "name": "python3"
  },
  "language_info": {
   "codemirror_mode": {
    "name": "ipython",
    "version": 3
   },
   "file_extension": ".py",
   "mimetype": "text/x-python",
   "name": "python",
   "nbconvert_exporter": "python",
   "pygments_lexer": "ipython3",
   "version": "3.5.2"
  }
 },
 "nbformat": 4,
 "nbformat_minor": 1
}
