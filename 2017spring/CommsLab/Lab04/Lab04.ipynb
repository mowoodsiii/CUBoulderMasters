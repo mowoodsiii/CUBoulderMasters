{
 "cells": [
  {
   "cell_type": "markdown",
   "metadata": {},
   "source": [
    "# Lab 04 - Sampling, Nyquist, Eye Diagrams, PR Signaling\n",
    "\n",
    "### Maurice Woods\n",
    "\n",
    "### 17 February 2017\n"
   ]
  },
  {
   "cell_type": "markdown",
   "metadata": {},
   "source": [
    "------------------------------------------------------------------------------------------------------------------------------------\n",
    "------------------------------------------------------------------------------------------------------------------------------------\n",
    "## EC 01 - Sampling  Theorem,  and  PAM  with  Manchester  and 'RCf' p(t)\n",
    "\n",
    "##### Part A) - Build the GRC flowgraph for the visualization of the sampling theorem given in the introduction (f0=2700Hz)"
   ]
  },
  {
   "cell_type": "code",
   "execution_count": 1,
   "metadata": {
    "collapsed": true
   },
   "outputs": [],
   "source": [
    "# Thing"
   ]
  },
  {
   "cell_type": "markdown",
   "metadata": {},
   "source": [
    "Observe the reconstructed ‘CT’ waveform and explain why it does not have a frequency of 2700 Hz\n",
    "\n",
    "> The"
   ]
  },
  {
   "cell_type": "markdown",
   "metadata": {},
   "source": [
    "---------------------\n",
    "##### Part B) - Input a 1000 Hz square wave into the flowgraph of Part A)"
   ]
  },
  {
   "cell_type": "code",
   "execution_count": null,
   "metadata": {
    "collapsed": true
   },
   "outputs": [],
   "source": [
    "# Thing"
   ]
  },
  {
   "cell_type": "markdown",
   "metadata": {},
   "source": [
    "Does the  reconstructed  ‘CT’  waveform  at  the  output  look  as  expected? Explain! \n",
    " \n",
    "> The\n",
    "\n",
    "Change the frequency of the square wave to 1200 Hz. Explain the reconstructed waveform that you see\n",
    "using explanations in both the time and frequency domains\n",
    "\n",
    "> THe"
   ]
  },
  {
   "cell_type": "markdown",
   "metadata": {},
   "source": [
    "-----\n",
    "##### Part C) - Build  the  GRC  flowgraph  that  uses  a  bandpass  filter  for  the  ‘CT’  waveform  reconstruction\n",
    "\n",
    "Verify that input and output ‘CT’ waveforms are identical.\n",
    "\n",
    "> The"
   ]
  },
  {
   "cell_type": "markdown",
   "metadata": {},
   "source": [
    "-----\n",
    "##### Part D) - Extend the pam10 function in the pamfun module to include the RCf pulse with rolloff parameter α and  truncation  index k and  the manchester or diphase pulse\n",
    "\n"
   ]
  },
  {
   "cell_type": "markdown",
   "metadata": {},
   "source": [
    "-----\n",
    "##### Part E) -  Generate a  PAM  pulse p(t)  using your pam11 function\n",
    "\n",
    "Verify that p(t) and P(f) look right for the manchester and the RCf pulses that you added to the pam11 function.\n",
    "\n",
    "> The"
   ]
  },
  {
   "cell_type": "markdown",
   "metadata": {},
   "source": [
    "------------------------------------------------------------------------------------------------------------------------------------\n",
    "------------------------------------------------------------------------------------------------------------------------------------\n",
    "## EC 02 -  PAM Analysis with Eye Diagrams\n",
    "\n",
    "##### Part A) - Write a Python function, called showeye that can be used to display eye diagrams of digital PAM signals"
   ]
  },
  {
   "cell_type": "markdown",
   "metadata": {},
   "source": [
    "##### Part B) -  Find out as much as possible about the pamsig401.wav and pamsig402.wav PAM signals.  In particular, try to find FB, p(t), and the number of levels L.  Also, try to characterize channel impairments (if any) like ISI, noise, and timing jitter"
   ]
  },
  {
   "cell_type": "markdown",
   "metadata": {},
   "source": [
    "##### Part C) - Use scipy.signal.butter  to  compute the numerator and the denominator polynomial coefficients of the rational transfer function H(z) of an N-th order DT Butterworth filter\n",
    "\n",
    "What can you conclude for the channel bandwidth that is needed for reliable detection of the transmitted data? \n",
    "\n",
    "> The\n",
    "\n",
    "Look at the eye diagram below that was obtained using the GNU Radio flowgraph of this experiment.  Can you determine the N and the fL that was used for the Butterworth filter?\n",
    "\n",
    "> The"
   ]
  }
 ],
 "metadata": {
  "anaconda-cloud": {},
  "kernelspec": {
   "display_name": "Python [default]",
   "language": "python",
   "name": "python3"
  },
  "language_info": {
   "codemirror_mode": {
    "name": "ipython",
    "version": 3
   },
   "file_extension": ".py",
   "mimetype": "text/x-python",
   "name": "python",
   "nbconvert_exporter": "python",
   "pygments_lexer": "ipython3",
   "version": "3.5.2"
  }
 },
 "nbformat": 4,
 "nbformat_minor": 1
}
