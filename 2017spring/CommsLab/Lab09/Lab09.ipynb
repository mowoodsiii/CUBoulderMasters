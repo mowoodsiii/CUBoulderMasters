{
 "cells": [
  {
   "cell_type": "markdown",
   "metadata": {
    "deletable": true,
    "editable": true
   },
   "source": [
    "# Lab 09 - M-ary Amplitude and Frequency Shift Keying, Signal Space\n",
    "\n",
    "### Maurice Woods\n",
    "\n",
    "### 25 April 2017\n"
   ]
  },
  {
   "cell_type": "markdown",
   "metadata": {
    "deletable": true,
    "editable": true
   },
   "source": [
    "------------------------------------------------------------------------------------------------------------------------------------\n",
    "------------------------------------------------------------------------------------------------------------------------------------\n",
    "## EC 01 - Amplitude Shift Keying"
   ]
  },
  {
   "cell_type": "code",
   "execution_count": 11,
   "metadata": {
    "collapsed": false,
    "deletable": true,
    "editable": true
   },
   "outputs": [],
   "source": [
    "from pylab import *\n",
    "import ecen4652 as ecen\n",
    "import quick\n",
    "import keyfun"
   ]
  },
  {
   "cell_type": "markdown",
   "metadata": {
    "deletable": true,
    "editable": true
   },
   "source": [
    "##### Part A)\n",
    "\n",
    "Start a new Python module called keyfun.py and use your pam12 function from the pamfun module as a building block to complete the ASK transmitter function $askxmtr$"
   ]
  },
  {
   "cell_type": "markdown",
   "metadata": {},
   "source": [
    "Generate a uniformly distributed random phase for noncoherent OOK using\n",
    "the rand function."
   ]
  },
  {
   "cell_type": "markdown",
   "metadata": {
    "deletable": true,
    "editable": true
   },
   "source": [
    "##### Part B)\n",
    "\n",
    "In the keyfun.py module, complete the following ASK receiver function, called $askrcvr$. Use it to receive coherent and noncoherent ASK signals, and to make scatter plots.\n",
    "\n",
    "Use the $pamrcvr10$ function in module $pamfun$ as part of the ASK receiver. Test $askrcvr$ together with askxmtr using random (unipolar) binary data and the parameters given in part (a)."
   ]
  },
  {
   "cell_type": "markdown",
   "metadata": {
    "deletable": true,
    "editable": true
   },
   "source": [
    "##### Part C)\n",
    "\n",
    "Let $F_s = 44100$Hz, $F_B = 100$baud, $f_c = 2100$Hz, and let $p(t)$ be a rectangular pulse of width $T_B$ . Use random binary data to produce (i) a coherent OOK signal, (ii) a noncoherent OOK signal, and (iii) a BPSK signal, each of duration 2 sec. Plot and compare the PSDs for\n",
    "all three cases. Then use the $wt$ and $wn=wt[ixn]$ outputs of the askrcvr function to make scatter plots for the three signals and compare them. Are there any interesting spectral lines if you look at the PSDs of the squared ASK signals? How do things change if you use a triangular pulse $p(t)$ (of total width $2T_B$ from $−T_B$ to $+T_B$ ) instead of the rectangular pulse?"
   ]
  },
  {
   "cell_type": "markdown",
   "metadata": {
    "deletable": true,
    "editable": true
   },
   "source": [
    "##### Part D)\n",
    "\n",
    "The wav files asksig901.wav, asksig902.wav and asksig903.wav are binary ASK signals which contain 8-bit, LSB-first, ASCII signals. Analyze the three signals and extractthe text messages."
   ]
  },
  {
   "cell_type": "markdown",
   "metadata": {
    "deletable": true,
    "editable": true
   },
   "source": [
    "## EC 02 - Frequency Shift Keying"
   ]
  },
  {
   "cell_type": "code",
   "execution_count": 17,
   "metadata": {
    "collapsed": false,
    "deletable": true,
    "editable": true
   },
   "outputs": [],
   "source": [
    "from pylab import *\n",
    "import ecen4652 as ecen\n",
    "import quick"
   ]
  },
  {
   "cell_type": "markdown",
   "metadata": {
    "deletable": true,
    "editable": true
   },
   "source": [
    "##### Part A)\n",
    "For the Python module keyfun.py, write a function\n",
    "called fskxmtr which implements an M -ary FSK transmitter for either coherent, noncoherent, or continuous phase FSK.\n",
    "\n",
    "Test fskxmtr by recreating the three (time domain) sample graphs for $F_B = 100 baud$, $f_c0 = 300 Hz$ and $f_c1 = 400 Hz$, which were given in the introduction for binary coherent FSK, noncoherent FSK, and CPFSK. Use $d_n = \\{0, 1, 1, 1, 0, 0, 1, 0\\}$ and (for the second graph) $θ_c [n] = \\{270^◦ , 225^◦ , 4^◦ , 135^◦ , 250^◦ , 90^◦ , 40^◦ , 240^◦ \\}$."
   ]
  },
  {
   "cell_type": "markdown",
   "metadata": {
    "deletable": true,
    "editable": true
   },
   "source": [
    "##### Part B)\n",
    "In the keyfun.py module, implement the FSK receiver function $fskrcvr$\n",
    "\n",
    "Test all receiver modes with the signals that you generated in (a) when you were testing $fskxmtr$."
   ]
  },
  {
   "cell_type": "markdown",
   "metadata": {
    "deletable": true,
    "editable": true
   },
   "source": [
    "##### Part C)\n",
    "Generate a coherent binary FSK signal from random data with equally likely 0’s and 1’s, using a rectangular $p(t)$, $F_B = 100 baud$, $f_c0 = 300 Hz$, $θ_c0 = 0^◦$ , $f_c1 = 400 Hz$, and $θ_c1 = 0^◦$. Use a coherent demodulator to produce a scatter plot of $w_0 [n]$ versus $w_1 [n]$. Change the phase $θ_c1$ from $0^◦$ to $180^◦$ and check whether the signals transmitted at f c0 and at f c1 remain orthogonal in the signal space spanned by w 0 [n] and w 1 [n]. Is it possible to reduce the frequency spacing $\\Delta_f = f_c1 − f_c0$ to a value less than $F_B$ while maintaining orthogonality? Try changing $f c1$ to 350 Hz and vary the phase $θ_c1$ again from $0^◦$ to $180^◦$ ."
   ]
  },
  {
   "cell_type": "markdown",
   "metadata": {
    "deletable": true,
    "editable": true
   },
   "source": [
    "##### Part D)\n",
    "Use uniformly distributed random M -ary data of length about 2 sec to generate PSD plots of M = 2 and M = 4 coherent, noncoherent, and continous-phase FSK (CPFSK) signals with rectangular p(t). Determine the -40dB bandwidth in all cases. Use $F_B = 100$ baud, $f_c0 = 2100 Hz$, and $f_{cm} = f_{c0} + mF_B$ . For coherent FSK set $\\theta_{cm} = 0$ for all m. For CPFSK choose the phases $\\theta_{cm}$ such that there are no phase jumps."
   ]
  },
  {
   "cell_type": "markdown",
   "metadata": {
    "deletable": true,
    "editable": true
   },
   "source": [
    "##### Part E)\n",
    "The wav files fsksig901.wav and fsksig902.wav contain binary FSK signals made from 8-bit, LSB-first, ASCII encoded characters. Analyze the two signals and extract the text messages."
   ]
  },
  {
   "cell_type": "markdown",
   "metadata": {
    "deletable": true,
    "editable": true
   },
   "source": [
    "##### Part F)\n",
    "The binary GNU Radio file digMod_905.bin contains several (complex-valued) binary communication signals. Use the GNU Radio Companion to find the signals recorded in the file and determine their properties such as the type of modulation and the carrier frequencies. Each of the signals contains an ASCII coded (MSB first) message. Try to demodulate the signals and extract the messages."
   ]
  }
 ],
 "metadata": {
  "anaconda-cloud": {},
  "kernelspec": {
   "display_name": "Python 3",
   "language": "python",
   "name": "python3"
  },
  "language_info": {
   "codemirror_mode": {
    "name": "ipython",
    "version": 3
   },
   "file_extension": ".py",
   "mimetype": "text/x-python",
   "name": "python",
   "nbconvert_exporter": "python",
   "pygments_lexer": "ipython3",
   "version": "3.5.2"
  }
 },
 "nbformat": 4,
 "nbformat_minor": 1
}
